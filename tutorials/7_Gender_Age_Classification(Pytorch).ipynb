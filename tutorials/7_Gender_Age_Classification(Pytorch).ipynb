{
 "cells": [
      {
      "cell_type": "markdown",
      "metadata": {
        "id": "view-in-github",
        "colab_type": "text"
      },
      "source": [
        "<a href=\"https://colab.research.google.com/github/Tessellate-Imaging/monk_v1/blob/master/tutorials/7_Gender_Age_Classification(Pytorch).ipynb\" target=\"_parent\"><img src=\"https://colab.research.google.com/assets/colab-badge.svg\" alt=\"Open In Colab\"/></a>"
      ]
    },
  {
   "cell_type": "markdown",
   "metadata": {
    "colab_type": "text",
    "id": "kjK0SSXD1Mky"
   },
   "source": [
    "## Application"
   ]
  },
  {
   "cell_type": "markdown",
   "metadata": {
    "colab_type": "text",
    "id": "61lUJ4zmMFUm"
   },
   "source": [
    "\n",
    "\n",
    "Goal : Gender and age classification\n"
   ]
  },
  {
   "cell_type": "markdown",
   "metadata": {
    "colab_type": "text",
    "id": "ks-YBCLN17Kz"
   },
   "source": [
    "## Setup Monk"
   ]
  },
  {
   "cell_type": "markdown",
   "metadata": {
    "colab_type": "text",
    "id": "PR8hO-wm2Ks9"
   },
   "source": [
    "#### Download Monk"
   ]
  },
  {
   "cell_type": "code",
   "execution_count": null,
   "metadata": {
    "colab": {
     "base_uri": "https://localhost:8080/",
     "height": 136
    },
    "colab_type": "code",
    "id": "RptGRjef2A5m",
    "outputId": "6d381355-6171-4163-bd50-ace46a39075f"
   },
   "outputs": [],
   "source": [
    "!git clone https://github.com/Tessellate-Imaging/monk_v1"
   ]
  },
  {
   "cell_type": "markdown",
   "metadata": {
    "colab_type": "text",
    "id": "w5RiXHoR2M9W"
   },
   "source": [
    "#### Setup dependencies"
   ]
  },
  {
   "cell_type": "code",
   "execution_count": null,
   "metadata": {
    "colab": {
     "base_uri": "https://localhost:8080/",
     "height": 34
    },
    "colab_type": "code",
    "id": "DjGlnWCytYhp",
    "outputId": "b4ccfa8c-39fd-4c4a-a9b4-2dae9683bd05"
   },
   "outputs": [],
   "source": [
    "cd monk_v1"
   ]
  },
  {
   "cell_type": "code",
   "execution_count": null,
   "metadata": {},
   "outputs": [],
   "source": [
    "!ls installation"
   ]
  },
  {
   "cell_type": "code",
   "execution_count": null,
   "metadata": {
    "colab": {
     "base_uri": "https://localhost:8080/",
     "height": 1000
    },
    "colab_type": "code",
    "id": "DvrzWH0m2TR7",
    "outputId": "5e087b63-1a89-4b2c-f558-5fd05fab5b8d"
   },
   "outputs": [],
   "source": [
    "!pip3 install -r ./installation/requirements_cu10.txt"
   ]
  },
  {
   "cell_type": "code",
   "execution_count": null,
   "metadata": {
    "colab": {
     "base_uri": "https://localhost:8080/",
     "height": 34
    },
    "colab_type": "code",
    "id": "zBN-y_1euBkI",
    "outputId": "460e4343-cf21-4a0e-c4c5-4c3af7aa60e7"
   },
   "outputs": [],
   "source": [
    "cd .."
   ]
  },
  {
   "cell_type": "markdown",
   "metadata": {
    "colab_type": "text",
    "id": "Cm4Az4y32-c9"
   },
   "source": [
    "#### Import Monk"
   ]
  },
  {
   "cell_type": "code",
   "execution_count": null,
   "metadata": {
    "colab": {},
    "colab_type": "code",
    "id": "d3Bjf_OR3BGA"
   },
   "outputs": [],
   "source": [
    "import os\n",
    "import sys\n",
    "sys.path.append(\"./monk_v1/monk\");\n",
    "import psutil\n",
    "from pytorch_prototype import prototype"
   ]
  },
  {
   "cell_type": "markdown",
   "metadata": {
    "colab_type": "text",
    "id": "ajOj-9Ce03QX"
   },
   "source": [
    "## Prepare Dataset"
   ]
  },
  {
   "cell_type": "markdown",
   "metadata": {
    "colab_type": "text",
    "id": "9eMDC40Y1jUw"
   },
   "source": [
    "#### Download Dataset"
   ]
  },
  {
   "cell_type": "code",
   "execution_count": null,
   "metadata": {
    "colab": {
     "base_uri": "https://localhost:8080/",
     "height": 445
    },
    "colab_type": "code",
    "id": "9-ayKjpB1mCx",
    "outputId": "a9647805-4b4e-4831-fc57-8c3c57250ee7"
   },
   "outputs": [],
   "source": [
    "!wget https://www.dropbox.com/s/3c34o03agjuydlg/age.zip"
   ]
  },
  {
   "cell_type": "markdown",
   "metadata": {
    "colab_type": "text",
    "id": "KOjSHTNu1sfe"
   },
   "source": [
    "#### Extract Dataset"
   ]
  },
  {
   "cell_type": "code",
   "execution_count": null,
   "metadata": {
    "colab": {},
    "colab_type": "code",
    "id": "NMqRE0RcDnkH"
   },
   "outputs": [],
   "source": [
    "#!rm -rf age"
   ]
  },
  {
   "cell_type": "code",
   "execution_count": null,
   "metadata": {
    "colab": {
     "base_uri": "https://localhost:8080/",
     "height": 1000
    },
    "colab_type": "code",
    "id": "j1oBGdub1vim",
    "outputId": "306221ac-069d-49de-b506-fc7d289267d3"
   },
   "outputs": [],
   "source": [
    "%%capture\n",
    "!unzip age.zip"
   ]
  },
  {
   "cell_type": "markdown",
   "metadata": {
    "colab_type": "text",
    "id": "dDNHYwHqXSWW"
   },
   "source": [
    "#### Create Gender dataset"
   ]
  },
  {
   "cell_type": "code",
   "execution_count": null,
   "metadata": {
    "colab": {},
    "colab_type": "code",
    "id": "HkARXwwvXm-9"
   },
   "outputs": [],
   "source": [
    "!mkdir gender\n",
    "!mkdir gender/male\n",
    "!mkdir gender/female"
   ]
  },
  {
   "cell_type": "code",
   "execution_count": null,
   "metadata": {
    "colab": {
     "base_uri": "https://localhost:8080/",
     "height": 51
    },
    "colab_type": "code",
    "id": "mOrqa6aLXSE4",
    "outputId": "c645a199-4ddc-4aca-a6f2-fea75b08d6c8"
   },
   "outputs": [],
   "source": [
    "import glob\n",
    "import shutil\n",
    "from tqdm import tqdm\n",
    "\n",
    "\n",
    "maleAgeList = glob.glob(\"./age/male/*\")\n",
    "femaleAgeList = glob.glob(\"./age/female/*\")\n",
    "\n",
    "for i in tqdm(maleAgeList):\n",
    "  imageList = glob.glob(i + \"/*.png\")\n",
    "  for j in imageList:\n",
    "    outPath = \"./gender/male/\" + j.split('/')[-1]\n",
    "    shutil.move(j,outPath)\n",
    "\n",
    "for i in tqdm(femaleAgeList):\n",
    "  imageList = glob.glob(i + \"/*.jpg\")\n",
    "  for j in imageList:\n",
    "    outPath = \"./gender/female/\" + j.split('/')[-1]\n",
    "    shutil.move(j,outPath)\n"
   ]
  },
  {
   "cell_type": "markdown",
   "metadata": {
    "colab_type": "text",
    "id": "7lnKtxYd1B9Q"
   },
   "source": [
    "## Gender Classification Training"
   ]
  },
  {
   "cell_type": "markdown",
   "metadata": {
    "colab_type": "text",
    "id": "yj6XjeSo4JGD"
   },
   "source": [
    "#### Create experiment"
   ]
  },
  {
   "cell_type": "code",
   "execution_count": null,
   "metadata": {
    "colab": {
     "base_uri": "https://localhost:8080/",
     "height": 136
    },
    "colab_type": "code",
    "id": "hF3yCIeD4K9N",
    "outputId": "63ec0186-d9d4-4e09-8e3c-bc6039910f27"
   },
   "outputs": [],
   "source": [
    "ptf = prototype(verbose=1);\n",
    "ptf.Prototype(\"Gender_Classification\", \"exp-1\");"
   ]
  },
  {
   "cell_type": "markdown",
   "metadata": {
    "colab_type": "text",
    "id": "fLMBAEBzFB5Z"
   },
   "source": [
    "#### List Models to Choose from"
   ]
  },
  {
   "cell_type": "code",
   "execution_count": null,
   "metadata": {
    "colab": {
     "base_uri": "https://localhost:8080/",
     "height": 629
    },
    "colab_type": "code",
    "id": "g7Lug5P2FE2L",
    "outputId": "9bb1a2a0-5e41-4423-c5fb-a8b35bc2c942"
   },
   "outputs": [],
   "source": [
    "ptf.List_Models()"
   ]
  },
  {
   "cell_type": "markdown",
   "metadata": {
    "colab_type": "text",
    "id": "Zr-L-Tz-4SXf"
   },
   "source": [
    "#### Load Dataset"
   ]
  },
  {
   "cell_type": "code",
   "execution_count": null,
   "metadata": {
    "colab": {
     "base_uri": "https://localhost:8080/",
     "height": 1000
    },
    "colab_type": "code",
    "id": "VzTN5flC4Tva",
    "outputId": "356cf911-9fcb-4dea-e004-4b68b3807814"
   },
   "outputs": [],
   "source": [
    "ptf.Default(dataset_path=\"./gender/\", model_name=\"resnet18\", freeze_base_network=True, num_epochs=4)"
   ]
  },
  {
   "cell_type": "code",
   "execution_count": null,
   "metadata": {
    "colab": {
     "base_uri": "https://localhost:8080/",
     "height": 1000
    },
    "colab_type": "code",
    "id": "qvzfZsGzFOUH",
    "outputId": "31c62a3b-a426-4223-9d18-924dcfc931bd"
   },
   "outputs": [],
   "source": [
    "ptf.Summary()"
   ]
  },
  {
   "cell_type": "markdown",
   "metadata": {
    "colab_type": "text",
    "id": "ANsMB9KWbyyB"
   },
   "source": [
    "#### Break and Resume training"
   ]
  },
  {
   "cell_type": "code",
   "execution_count": null,
   "metadata": {
    "colab": {},
    "colab_type": "code",
    "id": "L_iE9ISmb1WT"
   },
   "outputs": [],
   "source": [
    "#ptf = prototype(verbose=1);\n",
    "#ptf.Prototype(\"Gender_Classification\", \"exp-1\", resume_train=True);"
   ]
  },
  {
   "cell_type": "markdown",
   "metadata": {
    "colab_type": "text",
    "id": "SAz0SBp_Ewwj"
   },
   "source": [
    "#### Train"
   ]
  },
  {
   "cell_type": "code",
   "execution_count": null,
   "metadata": {
    "colab": {
     "base_uri": "https://localhost:8080/",
     "height": 1000
    },
    "colab_type": "code",
    "id": "aepZNAxaEwXI",
    "outputId": "2daedc7b-bc6c-4de4-9279-504ceae87335"
   },
   "outputs": [],
   "source": [
    "ptf.Train()"
   ]
  },
  {
   "cell_type": "markdown",
   "metadata": {
    "colab_type": "text",
    "id": "s-mQaTEm46SR"
   },
   "source": [
    "#### Zip and download workspace"
   ]
  },
  {
   "cell_type": "code",
   "execution_count": null,
   "metadata": {
    "colab": {
     "base_uri": "https://localhost:8080/",
     "height": 476
    },
    "colab_type": "code",
    "id": "L_aHBXOu4zaL",
    "outputId": "8d312516-7dc4-4c72-dd6b-abb8ba606fbd"
   },
   "outputs": [],
   "source": [
    "#!zip -r workspace.zip workspace"
   ]
  },
  {
   "cell_type": "code",
   "execution_count": null,
   "metadata": {
    "colab": {
     "base_uri": "https://localhost:8080/",
     "height": 341
    },
    "colab_type": "code",
    "id": "FVxBPH2h5Ggt",
    "outputId": "a1b92b9a-30cc-496e-8de0-5c626daea509"
   },
   "outputs": [],
   "source": [
    "#from google.colab import files\n",
    "#files.download(\"workspace.zip\")"
   ]
  },
  {
   "cell_type": "markdown",
   "metadata": {
    "colab_type": "text",
    "id": "q_tAixcdatRf"
   },
   "source": [
    "## Age Classification Male"
   ]
  },
  {
   "cell_type": "markdown",
   "metadata": {
    "colab_type": "text",
    "id": "rN0c_5AOawjd"
   },
   "source": [
    "#### Create Experiment"
   ]
  },
  {
   "cell_type": "code",
   "execution_count": null,
   "metadata": {
    "colab": {
     "base_uri": "https://localhost:8080/",
     "height": 136
    },
    "colab_type": "code",
    "id": "_T0Vdwrnayjh",
    "outputId": "09f68f52-2ac8-4c12-855f-f2afc276313d"
   },
   "outputs": [],
   "source": [
    "ptf = prototype(verbose=1);\n",
    "ptf.Prototype(\"Age_Classification\", \"male2\");"
   ]
  },
  {
   "cell_type": "code",
   "execution_count": null,
   "metadata": {
    "colab": {
     "base_uri": "https://localhost:8080/",
     "height": 581
    },
    "colab_type": "code",
    "id": "_PdOk5_Ya8PZ",
    "outputId": "ad125bb1-a4a3-4939-d89b-d5b8be3c0522"
   },
   "outputs": [],
   "source": [
    "ptf.Default(dataset_path=\"./age/male/\", model_name=\"densenet169\", freeze_base_network=True, num_epochs=5)"
   ]
  },
  {
   "cell_type": "markdown",
   "metadata": {
    "colab_type": "text",
    "id": "cPh-CI8oa-h6"
   },
   "source": [
    "#### Train"
   ]
  },
  {
   "cell_type": "code",
   "execution_count": null,
   "metadata": {
    "colab": {},
    "colab_type": "code",
    "id": "cLp0xTHPa_6J"
   },
   "outputs": [],
   "source": [
    "%%capture\n",
    "ptf.Train()"
   ]
  },
  {
   "cell_type": "markdown",
   "metadata": {
    "colab_type": "text",
    "id": "z0yuqibNbCUh"
   },
   "source": [
    "## Age Classification Female"
   ]
  },
  {
   "cell_type": "markdown",
   "metadata": {
    "colab_type": "text",
    "id": "Abz6-q9XbNYY"
   },
   "source": [
    "#### Create Experiment"
   ]
  },
  {
   "cell_type": "code",
   "execution_count": null,
   "metadata": {
    "colab": {
     "base_uri": "https://localhost:8080/",
     "height": 136
    },
    "colab_type": "code",
    "id": "pqSB9VGzbFL7",
    "outputId": "b0949248-2cd0-4bb8-f0d3-a7234891ddc8"
   },
   "outputs": [],
   "source": [
    "ptf = prototype(verbose=1);\n",
    "ptf.Prototype(\"Age_Classification\", \"female\");"
   ]
  },
  {
   "cell_type": "code",
   "execution_count": null,
   "metadata": {
    "colab": {},
    "colab_type": "code",
    "id": "_MxH-a1LbPUv"
   },
   "outputs": [],
   "source": [
    "ptf.Default(dataset_path=\"./age/male/\", model_name=\"resnet18\", freeze_base_network=True, num_epochs=5)"
   ]
  },
  {
   "cell_type": "markdown",
   "metadata": {
    "colab_type": "text",
    "id": "pqFUj3DvbQV6"
   },
   "source": [
    "#### Train"
   ]
  },
  {
   "cell_type": "code",
   "execution_count": null,
   "metadata": {
    "colab": {},
    "colab_type": "code",
    "id": "7r5QwL09bRtl"
   },
   "outputs": [],
   "source": [
    "ptf.Train()"
   ]
  },
  {
   "cell_type": "markdown",
   "metadata": {
    "colab_type": "text",
    "id": "8CRXBaY31JyD"
   },
   "source": [
    "## Inference"
   ]
  },
  {
   "cell_type": "markdown",
   "metadata": {
    "colab_type": "text",
    "id": "2iTe1KhSJsW9"
   },
   "source": [
    "#### Get the image"
   ]
  },
  {
   "cell_type": "code",
   "execution_count": null,
   "metadata": {
    "colab": {},
    "colab_type": "code",
    "id": "WeYO6F1I06bz"
   },
   "outputs": [],
   "source": [
    "import requests\n",
    "test_url = \"https://i2-prod.mirror.co.uk/incoming/article10883649.ece/ALTERNATES/s615b/PROD-Idris-Elba.jpg\"\n",
    "\n",
    "# URL of the image to be downloaded is defined as image_url \n",
    "r = requests.get(test_url) # create HTTP response object \n",
    "with open('test.jpg','wb') as f: \n",
    "    f.write(r.content) "
   ]
  },
  {
   "cell_type": "markdown",
   "metadata": {
    "colab_type": "text",
    "id": "Bc9EXbpxKJvU"
   },
   "source": [
    "#### Set experiment to Inference"
   ]
  },
  {
   "cell_type": "code",
   "execution_count": null,
   "metadata": {
    "colab": {
     "base_uri": "https://localhost:8080/",
     "height": 170
    },
    "colab_type": "code",
    "id": "NiNpeJUVKDRw",
    "outputId": "e42ed8db-b7ee-4ee8-fb33-cb888fc681b3"
   },
   "outputs": [],
   "source": [
    "ptf.Prototype(\"Gender_Classification\", \"exp-1\", eval_infer=True);"
   ]
  },
  {
   "cell_type": "markdown",
   "metadata": {
    "colab_type": "text",
    "id": "VvbTMkbXKQz8"
   },
   "source": [
    "#### Run predictions"
   ]
  },
  {
   "cell_type": "code",
   "execution_count": null,
   "metadata": {
    "colab": {
     "base_uri": "https://localhost:8080/",
     "height": 139
    },
    "colab_type": "code",
    "id": "aZT2HCCHKOIW",
    "outputId": "5a154320-bb84-47ae-b6dc-bb83dd76eeae"
   },
   "outputs": [],
   "source": [
    "img_name = \"test.jpg\";\n",
    "predictions = ptf.Infer(img_name=img_name, return_raw=True);\n",
    "print(predictions)"
   ]
  },
  {
   "cell_type": "code",
   "execution_count": null,
   "metadata": {
    "colab": {},
    "colab_type": "code",
    "id": "uCrJjrCQKTVf"
   },
   "outputs": [],
   "source": []
  }
 ],
 "metadata": {
  "accelerator": "GPU",
  "colab": {
   "collapsed_sections": [],
   "name": "7_Gender_Age_Classification(Pytorch).ipynb",
   "provenance": [],
   "toc_visible": true
  },
  "kernelspec": {
   "display_name": "Python 3",
   "language": "python",
   "name": "python3"
  },
  "language_info": {
   "codemirror_mode": {
    "name": "ipython",
    "version": 3
   },
   "file_extension": ".py",
   "mimetype": "text/x-python",
   "name": "python",
   "nbconvert_exporter": "python",
   "pygments_lexer": "ipython3",
   "version": "3.7.5"
  }
 },
 "nbformat": 4,
 "nbformat_minor": 1
}

{
  "nbformat": 4,
  "nbformat_minor": 0,
  "metadata": {
    "colab": {
      "name": "1_Ducks_vs_Rabbits (Pytorch).ipynb",
      "provenance": [],
      "collapsed_sections": [],
      "toc_visible": true
    },
    "kernelspec": {
      "name": "python3",
      "display_name": "Python 3"
    },
    "accelerator": "GPU"
  },
  "cells": [
    {
      "cell_type": "markdown",
      "metadata": {
        "id": "view-in-github",
        "colab_type": "text"
      },
      "source": [
        "<a href=\"https://colab.research.google.com/github/Tessellate-Imaging/monk_v1/blob/master/tutorials/1_Ducks_vs_Rabbits_(Pytorch).ipynb\" target=\"_parent\"><img src=\"https://colab.research.google.com/assets/colab-badge.svg\" alt=\"Open In Colab\"/></a>"
      ]
    },
    {
      "cell_type": "markdown",
      "metadata": {
        "id": "kjK0SSXD1Mky",
        "colab_type": "text"
      },
      "source": [
        "## Application\n",
        "\n",
        "#### Duck/Rabbit classification"
      ]
    },
    {
      "cell_type": "markdown",
      "metadata": {
        "id": "61lUJ4zmMFUm",
        "colab_type": "text"
      },
      "source": [
        "Goal : Apply transformations (flip and rotation) and evaluate improvement from vanilla quick mode training\n"
      ]
    },
    {
      "cell_type": "markdown",
      "metadata": {
        "id": "ks-YBCLN17Kz",
        "colab_type": "text"
      },
      "source": [
        "## Setup Monk"
      ]
    },
    {
      "cell_type": "markdown",
      "metadata": {
        "id": "PR8hO-wm2Ks9",
        "colab_type": "text"
      },
      "source": [
        "#### Download Monk"
      ]
    },
    {
      "cell_type": "code",
      "metadata": {
        "id": "RptGRjef2A5m",
        "colab_type": "code",
        "colab": {}
      },
      "source": [
        "!git clone https://github.com/Tessellate-Imaging/monk_v1"
      ],
      "execution_count": 0,
      "outputs": []
    },
    {
      "cell_type": "markdown",
      "metadata": {
        "id": "w5RiXHoR2M9W",
        "colab_type": "text"
      },
      "source": [
        "#### Setup dependencies"
      ]
    },
    {
      "cell_type": "code",
      "metadata": {
        "id": "9s_fXdwb5Bbb",
        "colab_type": "code",
        "colab": {}
      },
      "source": [
        "cd monk_v1"
      ],
      "execution_count": 0,
      "outputs": []
    },
    {
      "cell_type": "code",
      "metadata": {
        "id": "DvrzWH0m2TR7",
        "colab_type": "code",
        "colab": {}
      },
      "source": [
        "!pip install -r installation/requirements_cu10.txt"
      ],
      "execution_count": 0,
      "outputs": []
    },
    {
      "cell_type": "markdown",
      "metadata": {
        "id": "Cm4Az4y32-c9",
        "colab_type": "text"
      },
      "source": [
        "#### Import Monk"
      ]
    },
    {
      "cell_type": "code",
      "metadata": {
        "id": "d3Bjf_OR3BGA",
        "colab_type": "code",
        "colab": {}
      },
      "source": [
        "import os\n",
        "import sys\n",
        "sys.path.append(\"./monk_v1/monk\");\n",
        "import psutil\n",
        "from pytorch_prototype import prototype"
      ],
      "execution_count": 0,
      "outputs": []
    },
    {
      "cell_type": "markdown",
      "metadata": {
        "id": "ajOj-9Ce03QX",
        "colab_type": "text"
      },
      "source": [
        "## Prepare Dataset"
      ]
    },
    {
      "cell_type": "markdown",
      "metadata": {
        "id": "9eMDC40Y1jUw",
        "colab_type": "text"
      },
      "source": [
        "#### Download Dataset"
      ]
    },
    {
      "cell_type": "code",
      "metadata": {
        "id": "9-ayKjpB1mCx",
        "colab_type": "code",
        "colab": {}
      },
      "source": [
        "!wget https://www.dropbox.com/s/6wxjjcy0ys95yhk/ducks_vs_rabbits.zip"
      ],
      "execution_count": 0,
      "outputs": []
    },
    {
      "cell_type": "markdown",
      "metadata": {
        "id": "KOjSHTNu1sfe",
        "colab_type": "text"
      },
      "source": [
        "#### Extract Dataset"
      ]
    },
    {
      "cell_type": "code",
      "metadata": {
        "id": "j1oBGdub1vim",
        "colab_type": "code",
        "colab": {}
      },
      "source": [
        "!unzip ducks_vs_rabbits.zip"
      ],
      "execution_count": 0,
      "outputs": []
    },
    {
      "cell_type": "markdown",
      "metadata": {
        "id": "7lnKtxYd1B9Q",
        "colab_type": "text"
      },
      "source": [
        "## Vanilla Training"
      ]
    },
    {
      "cell_type": "code",
      "metadata": {
        "id": "cY1LjksJkgEU",
        "colab_type": "code",
        "colab": {}
      },
      "source": [
        "!rm -rf workspace"
      ],
      "execution_count": 0,
      "outputs": []
    },
    {
      "cell_type": "markdown",
      "metadata": {
        "id": "yj6XjeSo4JGD",
        "colab_type": "text"
      },
      "source": [
        "#### Create experiment"
      ]
    },
    {
      "cell_type": "code",
      "metadata": {
        "id": "hF3yCIeD4K9N",
        "colab_type": "code",
        "colab": {}
      },
      "source": [
        "ptf = prototype(verbose=1);\n",
        "ptf.Prototype(\"ducks_vs_rabbits\", \"exp-1\");"
      ],
      "execution_count": 0,
      "outputs": []
    },
    {
      "cell_type": "markdown",
      "metadata": {
        "id": "fLMBAEBzFB5Z",
        "colab_type": "text"
      },
      "source": [
        "#### List Models to Choose from"
      ]
    },
    {
      "cell_type": "code",
      "metadata": {
        "id": "g7Lug5P2FE2L",
        "colab_type": "code",
        "colab": {}
      },
      "source": [
        "#ptf.List_Models()"
      ],
      "execution_count": 0,
      "outputs": []
    },
    {
      "cell_type": "markdown",
      "metadata": {
        "id": "Zr-L-Tz-4SXf",
        "colab_type": "text"
      },
      "source": [
        "#### Load Dataset"
      ]
    },
    {
      "cell_type": "code",
      "metadata": {
        "id": "VzTN5flC4Tva",
        "colab_type": "code",
        "colab": {}
      },
      "source": [
        "ptf.Default(dataset_path=\"./ducks_vs_rabbits/\", model_name=\"resnet18\", freeze_base_network=True, num_epochs=5)"
      ],
      "execution_count": 0,
      "outputs": []
    },
    {
      "cell_type": "code",
      "metadata": {
        "id": "qvzfZsGzFOUH",
        "colab_type": "code",
        "colab": {}
      },
      "source": [
        "ptf.Summary()"
      ],
      "execution_count": 0,
      "outputs": []
    },
    {
      "cell_type": "markdown",
      "metadata": {
        "id": "SAz0SBp_Ewwj",
        "colab_type": "text"
      },
      "source": [
        "#### Train"
      ]
    },
    {
      "cell_type": "code",
      "metadata": {
        "id": "aepZNAxaEwXI",
        "colab_type": "code",
        "colab": {}
      },
      "source": [
        "ptf.Train()"
      ],
      "execution_count": 0,
      "outputs": []
    },
    {
      "cell_type": "markdown",
      "metadata": {
        "id": "xA1SEayJ1Eu6",
        "colab_type": "text"
      },
      "source": [
        "## Finetuning"
      ]
    },
    {
      "cell_type": "markdown",
      "metadata": {
        "id": "eK9ClEC-FaFn",
        "colab_type": "text"
      },
      "source": [
        "#### Copy previous experiment"
      ]
    },
    {
      "cell_type": "code",
      "metadata": {
        "id": "BJr_D29KFc6E",
        "colab_type": "code",
        "colab": {}
      },
      "source": [
        "ptf.Prototype(\"ducks_vs_rabbits\", \"exp-2\", copy_from=[\"ducks_vs_rabbits\", \"exp-1\"]);"
      ],
      "execution_count": 0,
      "outputs": []
    },
    {
      "cell_type": "code",
      "metadata": {
        "id": "qLCvjPCKz_X8",
        "colab_type": "code",
        "colab": {}
      },
      "source": [
        "ptf.List_Activations()"
      ],
      "execution_count": 0,
      "outputs": []
    },
    {
      "cell_type": "code",
      "metadata": {
        "id": "2em5wbEC0IRO",
        "colab_type": "code",
        "colab": {}
      },
      "source": [
        "ptf.append_dropout(probability=0.1);\n",
        "ptf.append_softmax(final_layer=True);"
      ],
      "execution_count": 0,
      "outputs": []
    },
    {
      "cell_type": "markdown",
      "metadata": {
        "id": "bISxojfoFppR",
        "colab_type": "text"
      },
      "source": [
        "#### Reset Transforms"
      ]
    },
    {
      "cell_type": "code",
      "metadata": {
        "id": "4_Zd5hd5Fu7Z",
        "colab_type": "code",
        "colab": {}
      },
      "source": [
        "ptf.reset_transforms();\n",
        "ptf.reset_transforms(test=True);"
      ],
      "execution_count": 0,
      "outputs": []
    },
    {
      "cell_type": "markdown",
      "metadata": {
        "id": "1XCOIOtIF6h0",
        "colab_type": "text"
      },
      "source": [
        "#### List Transforms"
      ]
    },
    {
      "cell_type": "code",
      "metadata": {
        "id": "NeFZgoQWF9GY",
        "colab_type": "code",
        "colab": {}
      },
      "source": [
        "ptf.List_Transforms()"
      ],
      "execution_count": 0,
      "outputs": []
    },
    {
      "cell_type": "markdown",
      "metadata": {
        "id": "RcIjqD7jFwbc",
        "colab_type": "text"
      },
      "source": [
        "#### Apply Updates"
      ]
    },
    {
      "cell_type": "code",
      "metadata": {
        "id": "-RIRVowTFzpi",
        "colab_type": "code",
        "colab": {}
      },
      "source": [
        "ptf.apply_grayscale(train=True, val=True, test=True);\n",
        "ptf.apply_random_rotation(10, train=True, val=True);\n",
        "ptf.apply_random_vertical_flip(probability=0.5, train=True, val=True);\n",
        "ptf.apply_random_horizontal_flip(probability=0.8, train=True, val=True);\n",
        "ptf.apply_random_perspective(distortion_scale=0.5, probability=0.5, train=True, val=True)"
      ],
      "execution_count": 0,
      "outputs": []
    },
    {
      "cell_type": "markdown",
      "metadata": {
        "id": "FY5xRxz9HLwy",
        "colab_type": "text"
      },
      "source": [
        "#### Reload after update"
      ]
    },
    {
      "cell_type": "code",
      "metadata": {
        "id": "Pat9kIvtHOlc",
        "colab_type": "code",
        "colab": {}
      },
      "source": [
        "ptf.Reload()"
      ],
      "execution_count": 0,
      "outputs": []
    },
    {
      "cell_type": "markdown",
      "metadata": {
        "id": "u3CazdLTHRkM",
        "colab_type": "text"
      },
      "source": [
        "#### Train"
      ]
    },
    {
      "cell_type": "code",
      "metadata": {
        "id": "ifCU9WiCHTNM",
        "colab_type": "code",
        "colab": {}
      },
      "source": [
        "ptf.Train()"
      ],
      "execution_count": 0,
      "outputs": []
    },
    {
      "cell_type": "markdown",
      "metadata": {
        "id": "fvYS3RPI1HlJ",
        "colab_type": "text"
      },
      "source": [
        "## Experiment Compare"
      ]
    },
    {
      "cell_type": "markdown",
      "metadata": {
        "id": "E-p0aG8qHdrv",
        "colab_type": "text"
      },
      "source": [
        "#### Import Compare module"
      ]
    },
    {
      "cell_type": "code",
      "metadata": {
        "id": "iWn2FjtTHc98",
        "colab_type": "code",
        "colab": {}
      },
      "source": [
        "from compare_prototype import compare"
      ],
      "execution_count": 0,
      "outputs": []
    },
    {
      "cell_type": "markdown",
      "metadata": {
        "id": "6Ox9qqmrHhjB",
        "colab_type": "text"
      },
      "source": [
        "#### Initialise Compare"
      ]
    },
    {
      "cell_type": "code",
      "metadata": {
        "id": "CAx4DEaqHjZL",
        "colab_type": "code",
        "colab": {}
      },
      "source": [
        "ctf = compare(verbose=1);\n",
        "ctf.Comparison(\"ducks_vs_rabbits_compare\");"
      ],
      "execution_count": 0,
      "outputs": []
    },
    {
      "cell_type": "markdown",
      "metadata": {
        "id": "_bM6LxYgHo0X",
        "colab_type": "text"
      },
      "source": [
        "#### Add experiments"
      ]
    },
    {
      "cell_type": "code",
      "metadata": {
        "id": "KqvV8NA7Hq6k",
        "colab_type": "code",
        "colab": {}
      },
      "source": [
        "ctf.Add_Experiment(\"ducks_vs_rabbits\", \"exp-1\");\n",
        "ctf.Add_Experiment(\"ducks_vs_rabbits\", \"exp-2\");"
      ],
      "execution_count": 0,
      "outputs": []
    },
    {
      "cell_type": "markdown",
      "metadata": {
        "id": "LylwMgk7Hy8a",
        "colab_type": "text"
      },
      "source": [
        "#### Generate Stats"
      ]
    },
    {
      "cell_type": "code",
      "metadata": {
        "id": "zHhv_chOH0rO",
        "colab_type": "code",
        "colab": {}
      },
      "source": [
        "ctf.Generate_Statistics();"
      ],
      "execution_count": 0,
      "outputs": []
    },
    {
      "cell_type": "code",
      "metadata": {
        "id": "1ybQ-Y9OIhBb",
        "colab_type": "code",
        "colab": {}
      },
      "source": [
        "!ls ./workspace/comparison/ducks_vs_rabbits_compare"
      ],
      "execution_count": 0,
      "outputs": []
    },
    {
      "cell_type": "markdown",
      "metadata": {
        "id": "VdSez712H3gv",
        "colab_type": "text"
      },
      "source": [
        "#### Display Plots"
      ]
    },
    {
      "cell_type": "code",
      "metadata": {
        "id": "HcsBdV_yIDsw",
        "colab_type": "code",
        "colab": {}
      },
      "source": [
        "from IPython.display import Image\n",
        "#Image('./workspace/comparison/ducks_vs_rabbits_compare/stats_best_val_acc.png',width=500, height=500)\n",
        "#Image('./workspace/comparison/ducks_vs_rabbits_compare/stats_max_gpu_usage.png',width=500, height=500)\n",
        "#Image('./workspace/comparison/ducks_vs_rabbits_compare/stats_training_time.png',width=500, height=500)\n",
        "#Image('./workspace/comparison/ducks_vs_rabbits_compare/train_accuracy.png',width=500, height=500)\n",
        "Image('./workspace/comparison/ducks_vs_rabbits_compare/train_loss.png',width=700, height=500)\n",
        "#Image('./workspace/comparison/ducks_vs_rabbits_compare/val_accuracy.png',width=500, height=500)\n",
        "#Image('./workspace/comparison/ducks_vs_rabbits_compare/val_loss.png',width=500, height=500)"
      ],
      "execution_count": 0,
      "outputs": []
    },
    {
      "cell_type": "markdown",
      "metadata": {
        "id": "8CRXBaY31JyD",
        "colab_type": "text"
      },
      "source": [
        "## Inference"
      ]
    },
    {
      "cell_type": "markdown",
      "metadata": {
        "id": "2iTe1KhSJsW9",
        "colab_type": "text"
      },
      "source": [
        "#### Get the image"
      ]
    },
    {
      "cell_type": "code",
      "metadata": {
        "id": "WeYO6F1I06bz",
        "colab_type": "code",
        "colab": {}
      },
      "source": [
        "import requests\n",
        "test_url = \"https://hips.hearstapps.com/hmg-prod.s3.amazonaws.com/images/rabbit-breeds-american-white-1553635287.jpg?crop=0.976xw:0.651xh;0.0242xw,0.291xh&resize=480:*\"\n",
        "\n",
        "# URL of the image to be downloaded is defined as image_url \n",
        "r = requests.get(test_url) # create HTTP response object \n",
        "with open('rabbit.jpg','wb') as f: \n",
        "    f.write(r.content) "
      ],
      "execution_count": 0,
      "outputs": []
    },
    {
      "cell_type": "code",
      "metadata": {
        "id": "yeYnz5IPLMFW",
        "colab_type": "code",
        "colab": {}
      },
      "source": [
        "import requests\n",
        "test_url = \"https://upload.wikimedia.org/wikipedia/commons/3/3f/Amerikanische_Pekingenten_2013_01%2C_cropped.jpg\"\n",
        "\n",
        "# URL of the image to be downloaded is defined as image_url \n",
        "r = requests.get(test_url) # create HTTP response object \n",
        "with open('duck.jpg','wb') as f: \n",
        "    f.write(r.content) "
      ],
      "execution_count": 0,
      "outputs": []
    },
    {
      "cell_type": "markdown",
      "metadata": {
        "id": "Bc9EXbpxKJvU",
        "colab_type": "text"
      },
      "source": [
        "#### Set experiment to Inference"
      ]
    },
    {
      "cell_type": "code",
      "metadata": {
        "id": "NiNpeJUVKDRw",
        "colab_type": "code",
        "colab": {}
      },
      "source": [
        "ptf.Prototype(\"ducks_vs_rabbits\", \"exp-1\", eval_infer=True);"
      ],
      "execution_count": 0,
      "outputs": []
    },
    {
      "cell_type": "markdown",
      "metadata": {
        "id": "VvbTMkbXKQz8",
        "colab_type": "text"
      },
      "source": [
        "#### Run predictions"
      ]
    },
    {
      "cell_type": "code",
      "metadata": {
        "id": "aZT2HCCHKOIW",
        "colab_type": "code",
        "colab": {}
      },
      "source": [
        "img_name = \"duck.jpg\";\n",
        "predictions = ptf.Infer(img_name=img_name, return_raw=True);\n",
        "print(predictions)"
      ],
      "execution_count": 0,
      "outputs": []
    },
    {
      "cell_type": "code",
      "metadata": {
        "id": "-HlHYyHlL0F2",
        "colab_type": "code",
        "colab": {}
      },
      "source": [
        "img_name = \"rabbit.jpg\";\n",
        "predictions = ptf.Infer(img_name=img_name, return_raw=True);\n",
        "print(predictions)"
      ],
      "execution_count": 0,
      "outputs": []
    }
  ]
}

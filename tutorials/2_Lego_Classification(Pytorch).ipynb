{
  "nbformat": 4,
  "nbformat_minor": 0,
  "metadata": {
    "colab": {
      "name": "2_Lego_Classification_QuickMode (Pytorch).ipynb",
      "provenance": [],
      "collapsed_sections": [],
      "toc_visible": true
    },
    "kernelspec": {
      "name": "python3",
      "display_name": "Python 3"
    },
    "accelerator": "GPU"
  },
  "cells": [
        {
      "cell_type": "markdown",
      "metadata": {
        "id": "view-in-github",
        "colab_type": "text"
      },
      "source": [
        "<a href=\"https://colab.research.google.com/github/Tessellate-Imaging/monk_v1/blob/master/tutorials/2_Lego_Classification(Pytorch).ipynb\" target=\"_parent\"><img src=\"https://colab.research.google.com/assets/colab-badge.svg\" alt=\"Open In Colab\"/></a>"
      ]
    },
    {
      "cell_type": "markdown",
      "metadata": {
        "id": "kjK0SSXD1Mky",
        "colab_type": "text"
      },
      "source": [
        "## Application"
      ]
    },
    {
      "cell_type": "markdown",
      "metadata": {
        "id": "61lUJ4zmMFUm",
        "colab_type": "text"
      },
      "source": [
        "\n",
        "\n",
        "Goal : Multi Class classification quick mode with DenseNet169\n"
      ]
    },
    {
      "cell_type": "markdown",
      "metadata": {
        "id": "ks-YBCLN17Kz",
        "colab_type": "text"
      },
      "source": [
        "## Setup Monk"
      ]
    },
    {
      "cell_type": "markdown",
      "metadata": {
        "id": "PR8hO-wm2Ks9",
        "colab_type": "text"
      },
      "source": [
        "#### Download Monk"
      ]
    },
    {
      "cell_type": "code",
      "metadata": {
        "id": "RptGRjef2A5m",
        "colab_type": "code",
        "colab": {}
      },
      "source": [
        "!git clone https://github.com/Tessellate-Imaging/monk_v1"
      ],
      "execution_count": 0,
      "outputs": []
    },
    {
      "cell_type": "markdown",
      "metadata": {
        "id": "w5RiXHoR2M9W",
        "colab_type": "text"
      },
      "source": [
        "#### Setup dependencies"
      ]
    },
    {
      "cell_type": "code",
      "metadata": {
        "id": "7Nke245C4Xil",
        "colab_type": "code",
        "colab": {}
      },
      "source": [
        "cd monk_v1"
      ],
      "execution_count": 0,
      "outputs": []
    },
    {
      "cell_type": "code",
      "metadata": {
        "id": "DvrzWH0m2TR7",
        "colab_type": "code",
        "colab": {}
      },
      "source": [
        "!pip install -r installation/requirements_cu10.txt"
      ],
      "execution_count": 0,
      "outputs": []
    },
    {
      "cell_type": "markdown",
      "metadata": {
        "id": "Cm4Az4y32-c9",
        "colab_type": "text"
      },
      "source": [
        "#### Import Monk"
      ]
    },
    {
      "cell_type": "code",
      "metadata": {
        "id": "d3Bjf_OR3BGA",
        "colab_type": "code",
        "colab": {}
      },
      "source": [
        "import os\n",
        "import sys\n",
        "sys.path.append(\"./monk_v1/monk\");\n",
        "import psutil\n",
        "from pytorch_prototype import prototype"
      ],
      "execution_count": 0,
      "outputs": []
    },
    {
      "cell_type": "markdown",
      "metadata": {
        "id": "ajOj-9Ce03QX",
        "colab_type": "text"
      },
      "source": [
        "## Prepare Dataset"
      ]
    },
    {
      "cell_type": "markdown",
      "metadata": {
        "id": "9eMDC40Y1jUw",
        "colab_type": "text"
      },
      "source": [
        "#### Download Dataset"
      ]
    },
    {
      "cell_type": "code",
      "metadata": {
        "id": "9-ayKjpB1mCx",
        "colab_type": "code",
        "colab": {}
      },
      "source": [
        "!wget https://www.dropbox.com/s/b5zk60m8l9wnpc4/LEGO.zip"
      ],
      "execution_count": 0,
      "outputs": []
    },
    {
      "cell_type": "markdown",
      "metadata": {
        "id": "KOjSHTNu1sfe",
        "colab_type": "text"
      },
      "source": [
        "#### Extract Dataset"
      ]
    },
    {
      "cell_type": "code",
      "metadata": {
        "id": "j1oBGdub1vim",
        "colab_type": "code",
        "colab": {}
      },
      "source": [
        "!unzip LEGO.zip"
      ],
      "execution_count": 0,
      "outputs": []
    },
    {
      "cell_type": "markdown",
      "metadata": {
        "id": "7lnKtxYd1B9Q",
        "colab_type": "text"
      },
      "source": [
        "## Vanilla Training"
      ]
    },
    {
      "cell_type": "markdown",
      "metadata": {
        "id": "yj6XjeSo4JGD",
        "colab_type": "text"
      },
      "source": [
        "#### Create experiment"
      ]
    },
    {
      "cell_type": "code",
      "metadata": {
        "id": "hF3yCIeD4K9N",
        "colab_type": "code",
        "colab": {}
      },
      "source": [
        "ptf = prototype(verbose=1);\n",
        "ptf.Prototype(\"Lego_Classification\", \"exp-1\");"
      ],
      "execution_count": 0,
      "outputs": []
    },
    {
      "cell_type": "markdown",
      "metadata": {
        "id": "fLMBAEBzFB5Z",
        "colab_type": "text"
      },
      "source": [
        "#### List Models to Choose from"
      ]
    },
    {
      "cell_type": "code",
      "metadata": {
        "id": "g7Lug5P2FE2L",
        "colab_type": "code",
        "colab": {}
      },
      "source": [
        "#ptf.List_Models()"
      ],
      "execution_count": 0,
      "outputs": []
    },
    {
      "cell_type": "markdown",
      "metadata": {
        "id": "Zr-L-Tz-4SXf",
        "colab_type": "text"
      },
      "source": [
        "#### Load Dataset"
      ]
    },
    {
      "cell_type": "code",
      "metadata": {
        "id": "VzTN5flC4Tva",
        "colab_type": "code",
        "colab": {}
      },
      "source": [
        "ptf.Default(dataset_path=[\"./LEGO/train\",\"./LEGO/valid\"], model_name=\"densenet169\", freeze_base_network=True, num_epochs=4)"
      ],
      "execution_count": 0,
      "outputs": []
    },
    {
      "cell_type": "code",
      "metadata": {
        "id": "qvzfZsGzFOUH",
        "colab_type": "code",
        "colab": {}
      },
      "source": [
        "ptf.Summary()"
      ],
      "execution_count": 0,
      "outputs": []
    },
    {
      "cell_type": "markdown",
      "metadata": {
        "id": "SAz0SBp_Ewwj",
        "colab_type": "text"
      },
      "source": [
        "#### Train"
      ]
    },
    {
      "cell_type": "code",
      "metadata": {
        "id": "aepZNAxaEwXI",
        "colab_type": "code",
        "colab": {}
      },
      "source": [
        "ptf.Train()"
      ],
      "execution_count": 0,
      "outputs": []
    },
    {
      "cell_type": "markdown",
      "metadata": {
        "id": "8CRXBaY31JyD",
        "colab_type": "text"
      },
      "source": [
        "## Inference"
      ]
    },
    {
      "cell_type": "markdown",
      "metadata": {
        "id": "2iTe1KhSJsW9",
        "colab_type": "text"
      },
      "source": [
        "#### Get the image"
      ]
    },
    {
      "cell_type": "code",
      "metadata": {
        "id": "WeYO6F1I06bz",
        "colab_type": "code",
        "colab": {}
      },
      "source": [
        "import requests\n",
        "test_url = \"https://img.brickowl.com/files/image_cache/larger/lego-blue-brick-2-x-3-3002-30-462227-39.jpg\"\n",
        "\n",
        "# URL of the image to be downloaded is defined as image_url \n",
        "r = requests.get(test_url) # create HTTP response object \n",
        "with open('test.jpg','wb') as f: \n",
        "    f.write(r.content) "
      ],
      "execution_count": 0,
      "outputs": []
    },
    {
      "cell_type": "markdown",
      "metadata": {
        "id": "Bc9EXbpxKJvU",
        "colab_type": "text"
      },
      "source": [
        "#### Set experiment to Inference"
      ]
    },
    {
      "cell_type": "code",
      "metadata": {
        "id": "NiNpeJUVKDRw",
        "colab_type": "code",
        "colab": {}
      },
      "source": [
        "ptf.Prototype(\"LEGO\", \"exp-1\", eval_infer=True);"
      ],
      "execution_count": 0,
      "outputs": []
    },
    {
      "cell_type": "markdown",
      "metadata": {
        "id": "VvbTMkbXKQz8",
        "colab_type": "text"
      },
      "source": [
        "#### Run predictions"
      ]
    },
    {
      "cell_type": "code",
      "metadata": {
        "id": "aZT2HCCHKOIW",
        "colab_type": "code",
        "colab": {}
      },
      "source": [
        "img_name = \"test.jpg\";\n",
        "predictions = ptf.Infer(img_name=img_name, return_raw=True);\n",
        "print(predictions)"
      ],
      "execution_count": 0,
      "outputs": []
    },
    {
      "cell_type": "code",
      "metadata": {
        "id": "uCrJjrCQKTVf",
        "colab_type": "code",
        "colab": {}
      },
      "source": [
        ""
      ],
      "execution_count": 0,
      "outputs": []
    }
  ]
}

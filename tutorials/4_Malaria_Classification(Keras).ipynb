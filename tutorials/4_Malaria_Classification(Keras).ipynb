{
  "nbformat": 4,
  "nbformat_minor": 0,
  "metadata": {
    "colab": {
      "name": "4_Malaria_Classification(Keras).ipynb",
      "provenance": [],
      "collapsed_sections": [],
      "toc_visible": true
    },
    "kernelspec": {
      "name": "python3",
      "display_name": "Python 3"
    },
    "accelerator": "GPU"
  },
  "cells": [
        {
      "cell_type": "markdown",
      "metadata": {
        "id": "view-in-github",
        "colab_type": "text"
      },
      "source": [
        "<a href=\"https://colab.research.google.com/github/Tessellate-Imaging/monk_v1/blob/master/tutorials/4_Malaria_Classification(Keras).ipynb\" target=\"_parent\"><img src=\"https://colab.research.google.com/assets/colab-badge.svg\" alt=\"Open In Colab\"/></a>"
      ]
    },
    {
      "cell_type": "markdown",
      "metadata": {
        "id": "kjK0SSXD1Mky",
        "colab_type": "text"
      },
      "source": [
        "## Application\n"
      ]
    },
    {
      "cell_type": "markdown",
      "metadata": {
        "id": "61lUJ4zmMFUm",
        "colab_type": "text"
      },
      "source": [
        "\n",
        "\n",
        "Goal : Malaria Binary classification with DenseNet169\n"
      ]
    },
    {
      "cell_type": "markdown",
      "metadata": {
        "id": "ks-YBCLN17Kz",
        "colab_type": "text"
      },
      "source": [
        "## Setup Monk"
      ]
    },
    {
      "cell_type": "markdown",
      "metadata": {
        "id": "PR8hO-wm2Ks9",
        "colab_type": "text"
      },
      "source": [
        "#### Download Monk"
      ]
    },
    {
      "cell_type": "code",
      "metadata": {
        "id": "RptGRjef2A5m",
        "colab_type": "code",
        "colab": {}
      },
      "source": [
        "!git clone https://github.com/Tessellate-Imaging/monk_v1"
      ],
      "execution_count": 0,
      "outputs": []
    },
    {
      "cell_type": "markdown",
      "metadata": {
        "id": "w5RiXHoR2M9W",
        "colab_type": "text"
      },
      "source": [
        "#### Setup dependencies"
      ]
    },
    {
      "cell_type": "code",
      "metadata": {
        "id": "bxFnJVRT3nIC",
        "colab_type": "code",
        "colab": {}
      },
      "source": [
        "cd monk_v1"
      ],
      "execution_count": 0,
      "outputs": []
    },
    {
      "cell_type": "code",
      "metadata": {
        "id": "DvrzWH0m2TR7",
        "colab_type": "code",
        "colab": {}
      },
      "source": [
        "!pip install -r installation/requirements_cu10.txt"
      ],
      "execution_count": 0,
      "outputs": []
    },
    {
      "cell_type": "markdown",
      "metadata": {
        "id": "Cm4Az4y32-c9",
        "colab_type": "text"
      },
      "source": [
        "#### Import Monk"
      ]
    },
    {
      "cell_type": "code",
      "metadata": {
        "id": "d3Bjf_OR3BGA",
        "colab_type": "code",
        "colab": {}
      },
      "source": [
        "import os\n",
        "import sys\n",
        "sys.path.append(\"./monk_v1/monk\");\n",
        "import psutil\n",
        "from keras_prototype import prototype"
      ],
      "execution_count": 0,
      "outputs": []
    },
    {
      "cell_type": "markdown",
      "metadata": {
        "id": "ajOj-9Ce03QX",
        "colab_type": "text"
      },
      "source": [
        "## Prepare Dataset"
      ]
    },
    {
      "cell_type": "markdown",
      "metadata": {
        "id": "9eMDC40Y1jUw",
        "colab_type": "text"
      },
      "source": [
        "#### Download Dataset"
      ]
    },
    {
      "cell_type": "code",
      "metadata": {
        "id": "9-ayKjpB1mCx",
        "colab_type": "code",
        "colab": {}
      },
      "source": [
        "!wget https://www.dropbox.com/s/r2d5dop1njqbk4c/malaria_cell_images.zip"
      ],
      "execution_count": 0,
      "outputs": []
    },
    {
      "cell_type": "markdown",
      "metadata": {
        "id": "KOjSHTNu1sfe",
        "colab_type": "text"
      },
      "source": [
        "#### Extract Dataset"
      ]
    },
    {
      "cell_type": "code",
      "metadata": {
        "id": "j1oBGdub1vim",
        "colab_type": "code",
        "colab": {}
      },
      "source": [
        "%%capture\n",
        "!unzip malaria_cell_images.zip"
      ],
      "execution_count": 0,
      "outputs": []
    },
    {
      "cell_type": "markdown",
      "metadata": {
        "id": "7lnKtxYd1B9Q",
        "colab_type": "text"
      },
      "source": [
        "## Vanilla Training"
      ]
    },
    {
      "cell_type": "markdown",
      "metadata": {
        "id": "yj6XjeSo4JGD",
        "colab_type": "text"
      },
      "source": [
        "#### Create experiment"
      ]
    },
    {
      "cell_type": "code",
      "metadata": {
        "id": "hF3yCIeD4K9N",
        "colab_type": "code",
        "colab": {}
      },
      "source": [
        "ktf = prototype(verbose=1);\n",
        "ktf.Prototype(\"Malaria_Classification\", \"exp-1\");"
      ],
      "execution_count": 0,
      "outputs": []
    },
    {
      "cell_type": "markdown",
      "metadata": {
        "id": "fLMBAEBzFB5Z",
        "colab_type": "text"
      },
      "source": [
        "#### List Models to Choose from"
      ]
    },
    {
      "cell_type": "code",
      "metadata": {
        "id": "g7Lug5P2FE2L",
        "colab_type": "code",
        "colab": {}
      },
      "source": [
        "ktf.List_Models()"
      ],
      "execution_count": 0,
      "outputs": []
    },
    {
      "cell_type": "markdown",
      "metadata": {
        "id": "Zr-L-Tz-4SXf",
        "colab_type": "text"
      },
      "source": [
        "#### Load Dataset"
      ]
    },
    {
      "cell_type": "code",
      "metadata": {
        "id": "VzTN5flC4Tva",
        "colab_type": "code",
        "colab": {}
      },
      "source": [
        "ktf.Default(dataset_path=\"malaria_cell_images\", model_name=\"densenet169\", freeze_base_network=True, num_epochs=4)"
      ],
      "execution_count": 0,
      "outputs": []
    },
    {
      "cell_type": "code",
      "metadata": {
        "id": "qvzfZsGzFOUH",
        "colab_type": "code",
        "colab": {}
      },
      "source": [
        "ptf.Summary()"
      ],
      "execution_count": 0,
      "outputs": []
    },
    {
      "cell_type": "markdown",
      "metadata": {
        "id": "SAz0SBp_Ewwj",
        "colab_type": "text"
      },
      "source": [
        "#### Train"
      ]
    },
    {
      "cell_type": "code",
      "metadata": {
        "id": "aepZNAxaEwXI",
        "colab_type": "code",
        "colab": {}
      },
      "source": [
        "ptf.Train()"
      ],
      "execution_count": 0,
      "outputs": []
    }
  ]
}

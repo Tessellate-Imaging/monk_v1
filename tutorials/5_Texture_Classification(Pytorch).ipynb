{
 "cells": [
      {
      "cell_type": "markdown",
      "metadata": {
        "id": "view-in-github",
        "colab_type": "text"
      },
      "source": [
        "<a href=\"https://colab.research.google.com/github/Tessellate-Imaging/monk_v1/blob/master/tutorials/5_Texture_Classification(Pytorch).ipynb\" target=\"_parent\"><img src=\"https://colab.research.google.com/assets/colab-badge.svg\" alt=\"Open In Colab\"/></a>"
      ]
    },
  {
   "cell_type": "markdown",
   "metadata": {
    "colab_type": "text",
    "id": "kjK0SSXD1Mky"
   },
   "source": [
    "## Application"
   ]
  },
  {
   "cell_type": "markdown",
   "metadata": {
    "colab_type": "text",
    "id": "61lUJ4zmMFUm"
   },
   "source": [
    "\n",
    "\n",
    "Goal : Multi Class classification quick mode with DenseNet169\n"
   ]
  },
  {
   "cell_type": "markdown",
   "metadata": {
    "colab_type": "text",
    "id": "ks-YBCLN17Kz"
   },
   "source": [
    "## Setup Monk"
   ]
  },
  {
   "cell_type": "markdown",
   "metadata": {
    "colab_type": "text",
    "id": "PR8hO-wm2Ks9"
   },
   "source": [
    "#### Download Monk"
   ]
  },
  {
   "cell_type": "code",
   "execution_count": 0,
   "metadata": {
    "colab": {},
    "colab_type": "code",
    "id": "RptGRjef2A5m"
   },
   "outputs": [],
   "source": [
    "!git clone https://github.com/Tessellate-Imaging/monk_v1"
   ]
  },
  {
   "cell_type": "markdown",
   "metadata": {
    "colab_type": "text",
    "id": "w5RiXHoR2M9W"
   },
   "source": [
    "#### Setup dependencies"
   ]
  },
  {
   "cell_type": "code",
   "execution_count": 0,
   "metadata": {
    "colab": {},
    "colab_type": "code",
    "id": "scmKdkIU2402"
   },
   "outputs": [],
   "source": [
    "cd monk_v1"
   ]
  },
  {
   "cell_type": "code",
   "execution_count": 0,
   "metadata": {
    "colab": {},
    "colab_type": "code",
    "id": "DvrzWH0m2TR7"
   },
   "outputs": [],
   "source": [
    "!pip install -r installation/requirements_cu10.txt"
   ]
  },
  {
   "cell_type": "code",
   "execution_count": 0,
   "metadata": {
    "colab": {},
    "colab_type": "code",
    "id": "IesXaMF828ig"
   },
   "outputs": [],
   "source": [
    "cd .."
   ]
  },
  {
   "cell_type": "markdown",
   "metadata": {
    "colab_type": "text",
    "id": "Cm4Az4y32-c9"
   },
   "source": [
    "#### Import Monk"
   ]
  },
  {
   "cell_type": "code",
   "execution_count": 0,
   "metadata": {
    "colab": {},
    "colab_type": "code",
    "id": "d3Bjf_OR3BGA"
   },
   "outputs": [],
   "source": [
    "import os\n",
    "import sys\n",
    "sys.path.append(\"./monk_v1/monk\");\n",
    "import psutil\n",
    "from pytorch_prototype import prototype"
   ]
  },
  {
   "cell_type": "markdown",
   "metadata": {
    "colab_type": "text",
    "id": "ajOj-9Ce03QX"
   },
   "source": [
    "## Prepare Dataset"
   ]
  },
  {
   "cell_type": "markdown",
   "metadata": {
    "colab_type": "text",
    "id": "9eMDC40Y1jUw"
   },
   "source": [
    "#### Download Dataset"
   ]
  },
  {
   "cell_type": "code",
   "execution_count": 0,
   "metadata": {
    "colab": {},
    "colab_type": "code",
    "id": "9-ayKjpB1mCx"
   },
   "outputs": [],
   "source": [
    "!wget http://www.robots.ox.ac.uk/~vgg/data/dtd/download/dtd-r1.0.1.tar.gz"
   ]
  },
  {
   "cell_type": "markdown",
   "metadata": {
    "colab_type": "text",
    "id": "KOjSHTNu1sfe"
   },
   "source": [
    "#### Extract Dataset"
   ]
  },
  {
   "cell_type": "code",
   "execution_count": 0,
   "metadata": {
    "colab": {},
    "colab_type": "code",
    "id": "j1oBGdub1vim"
   },
   "outputs": [],
   "source": [
    "%%capture\n",
    "!tar -xvzf dtd-r1.0.1.tar.gz"
   ]
  },
  {
   "cell_type": "markdown",
   "metadata": {
    "colab_type": "text",
    "id": "7lnKtxYd1B9Q"
   },
   "source": [
    "## Vanilla Training"
   ]
  },
  {
   "cell_type": "markdown",
   "metadata": {
    "colab_type": "text",
    "id": "yj6XjeSo4JGD"
   },
   "source": [
    "#### Create experiment"
   ]
  },
  {
   "cell_type": "code",
   "execution_count": 0,
   "metadata": {
    "colab": {},
    "colab_type": "code",
    "id": "hF3yCIeD4K9N"
   },
   "outputs": [],
   "source": [
    "ptf = prototype(verbose=1);\n",
    "ptf.Prototype(\"Texture_Classification\", \"exp-1\");"
   ]
  },
  {
   "cell_type": "markdown",
   "metadata": {
    "colab_type": "text",
    "id": "fLMBAEBzFB5Z"
   },
   "source": [
    "#### List Models to Choose from"
   ]
  },
  {
   "cell_type": "code",
   "execution_count": 0,
   "metadata": {
    "colab": {},
    "colab_type": "code",
    "id": "g7Lug5P2FE2L"
   },
   "outputs": [],
   "source": [
    "ptf.List_Models()"
   ]
  },
  {
   "cell_type": "markdown",
   "metadata": {
    "colab_type": "text",
    "id": "Zr-L-Tz-4SXf"
   },
   "source": [
    "#### Load Dataset"
   ]
  },
  {
   "cell_type": "code",
   "execution_count": 0,
   "metadata": {
    "colab": {},
    "colab_type": "code",
    "id": "VzTN5flC4Tva"
   },
   "outputs": [],
   "source": [
    "ptf.Default(dataset_path=\"./dtd/images/\", model_name=\"inception_v3\", freeze_base_network=True, num_epochs=10)"
   ]
  },
  {
   "cell_type": "code",
   "execution_count": 0,
   "metadata": {
    "colab": {},
    "colab_type": "code",
    "id": "qvzfZsGzFOUH"
   },
   "outputs": [],
   "source": [
    "ptf.Summary()"
   ]
  },
  {
   "cell_type": "markdown",
   "metadata": {
    "colab_type": "text",
    "id": "SAz0SBp_Ewwj"
   },
   "source": [
    "#### Train"
   ]
  },
  {
   "cell_type": "code",
   "execution_count": 0,
   "metadata": {
    "colab": {},
    "colab_type": "code",
    "id": "aepZNAxaEwXI"
   },
   "outputs": [],
   "source": [
    "ptf.Train()"
   ]
  },
  {
   "cell_type": "markdown",
   "metadata": {
    "colab_type": "text",
    "id": "8CRXBaY31JyD"
   },
   "source": [
    "## Inference"
   ]
  },
  {
   "cell_type": "markdown",
   "metadata": {
    "colab_type": "text",
    "id": "2iTe1KhSJsW9"
   },
   "source": [
    "#### Get the image"
   ]
  },
  {
   "cell_type": "code",
   "execution_count": 0,
   "metadata": {
    "colab": {},
    "colab_type": "code",
    "id": "WeYO6F1I06bz"
   },
   "outputs": [],
   "source": [
    "import requests\n",
    "test_url = \"https://www.textures.com/system/categories/1882/frontend-large.jpg\"\n",
    "\n",
    "# URL of the image to be downloaded is defined as image_url \n",
    "r = requests.get(test_url) # create HTTP response object \n",
    "with open('test.jpg','wb') as f: \n",
    "    f.write(r.content) "
   ]
  },
  {
   "cell_type": "markdown",
   "metadata": {
    "colab_type": "text",
    "id": "Bc9EXbpxKJvU"
   },
   "source": [
    "#### Set experiment to Inference"
   ]
  },
  {
   "cell_type": "code",
   "execution_count": 0,
   "metadata": {
    "colab": {},
    "colab_type": "code",
    "id": "NiNpeJUVKDRw"
   },
   "outputs": [],
   "source": [
    "ptf.Prototype(\"Texture_Classification\", \"exp-1\", eval_infer=True);"
   ]
  },
  {
   "cell_type": "markdown",
   "metadata": {
    "colab_type": "text",
    "id": "VvbTMkbXKQz8"
   },
   "source": [
    "#### Run predictions"
   ]
  },
  {
   "cell_type": "code",
   "execution_count": 0,
   "metadata": {
    "colab": {},
    "colab_type": "code",
    "id": "aZT2HCCHKOIW"
   },
   "outputs": [],
   "source": [
    "img_name = \"test.jpg\";\n",
    "predictions = ptf.Infer(img_name=img_name, return_raw=True);\n",
    "print(predictions)"
   ]
  },
  {
   "cell_type": "code",
   "execution_count": 0,
   "metadata": {
    "colab": {},
    "colab_type": "code",
    "id": "uCrJjrCQKTVf"
   },
   "outputs": [],
   "source": []
  }
 ],
 "metadata": {
  "accelerator": "GPU",
  "colab": {
   "collapsed_sections": [],
   "name": "5_Texture_Classification(Pytorch).ipynb",
   "provenance": [],
   "toc_visible": true
  },
  "kernelspec": {
   "display_name": "Python 3",
   "language": "python",
   "name": "python3"
  },
  "language_info": {
   "codemirror_mode": {
    "name": "ipython",
    "version": 3
   },
   "file_extension": ".py",
   "mimetype": "text/x-python",
   "name": "python",
   "nbconvert_exporter": "python",
   "pygments_lexer": "ipython3",
   "version": "3.7.5"
  }
 },
 "nbformat": 4,
 "nbformat_minor": 1
}

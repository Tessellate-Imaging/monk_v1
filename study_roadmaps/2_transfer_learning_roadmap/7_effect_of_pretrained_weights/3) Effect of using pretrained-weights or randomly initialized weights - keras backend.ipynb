{
 "cells": [
  {
   "cell_type": "code",
   "execution_count": null,
   "metadata": {},
   "outputs": [],
   "source": []
  },
  {
   "cell_type": "code",
   "execution_count": null,
   "metadata": {},
   "outputs": [],
   "source": []
  },
  {
   "cell_type": "code",
   "execution_count": null,
   "metadata": {},
   "outputs": [],
   "source": []
  },
  {
   "cell_type": "markdown",
   "metadata": {},
   "source": [
    "# Goals\n",
    "\n",
    "\n",
    "### Understand the role of using pretrained weights in transfer learning\n",
    "\n",
    "\n",
    "### Use comparison feature to appropriately set this parameter on custom dataset\n",
    "\n",
    "\n",
    "### You will be using bird species classification dataset to train the classifiers"
   ]
  },
  {
   "cell_type": "code",
   "execution_count": null,
   "metadata": {},
   "outputs": [],
   "source": []
  },
  {
   "cell_type": "code",
   "execution_count": null,
   "metadata": {},
   "outputs": [],
   "source": []
  },
  {
   "cell_type": "markdown",
   "metadata": {},
   "source": [
    "# What are pretrained weights\n",
    "\n",
    "\n",
    "    - The Network is initially trained on a huge dataset like imagenet, coco, etc\n",
    "    \n",
    "    - The traned weights are saved and the final classification layer, containing number of neurons as number  of classes, is removed. \n",
    "    \n",
    "    - This pre-trained network is nothing but a feature extractor.\n",
    "    \n",
    "    - Using pre-trained weights helps as it know which features to look for\n",
    "    \n",
    "    - Alternative to this is to initialize the weights using random distrubitions like normal, xavier, distributions"
   ]
  },
  {
   "cell_type": "code",
   "execution_count": null,
   "metadata": {},
   "outputs": [],
   "source": []
  },
  {
   "cell_type": "code",
   "execution_count": null,
   "metadata": {},
   "outputs": [],
   "source": []
  },
  {
   "cell_type": "code",
   "execution_count": null,
   "metadata": {},
   "outputs": [],
   "source": []
  },
  {
   "cell_type": "code",
   "execution_count": null,
   "metadata": {},
   "outputs": [],
   "source": []
  },
  {
   "cell_type": "markdown",
   "metadata": {},
   "source": [
    "# Table of Contents\n",
    "\n",
    "\n",
    "## [0. Install](#0)\n",
    "\n",
    "\n",
    "## [1. Use pre-trained weights and train a classifier](#1)\n",
    "\n",
    "\n",
    "## [2. Use randomly initialized weights and train another classifier](#2)\n",
    "\n",
    "\n",
    "## [3. Compare both the experiment](#3)"
   ]
  },
  {
   "cell_type": "code",
   "execution_count": null,
   "metadata": {},
   "outputs": [],
   "source": []
  },
  {
   "cell_type": "code",
   "execution_count": null,
   "metadata": {},
   "outputs": [],
   "source": []
  },
  {
   "cell_type": "markdown",
   "metadata": {},
   "source": [
    "<a id='0'></a>\n",
    "# Install Monk\n",
    "  \n",
    " - git clone https://github.com/Tessellate-Imaging/monk_v1.git\n",
    " \n",
    " - cd monk_v1/installation/Linux && pip install -r requirements_cu9.txt\n",
    "     - (Select the requirements file as per OS and CUDA version)"
   ]
  },
  {
   "cell_type": "code",
   "execution_count": 1,
   "metadata": {},
   "outputs": [
    {
     "name": "stdout",
     "output_type": "stream",
     "text": [
      "Cloning into 'monk_v1'...\n",
      "remote: Enumerating objects: 113, done.\u001b[K\n",
      "remote: Counting objects: 100% (113/113), done.\u001b[K\n",
      "remote: Compressing objects: 100% (105/105), done.\u001b[K\n",
      "remote: Total 3465 (delta 36), reused 71 (delta 8), pack-reused 3352\u001b[K\n",
      "Receiving objects: 100% (3465/3465), 106.68 MiB | 3.37 MiB/s, done.\n",
      "Resolving deltas: 100% (2030/2030), done.\n"
     ]
    }
   ],
   "source": [
    "!git clone https://github.com/Tessellate-Imaging/monk_v1.git"
   ]
  },
  {
   "cell_type": "code",
   "execution_count": null,
   "metadata": {},
   "outputs": [],
   "source": [
    "# Select the requirements file as per OS and CUDA version\n",
    "!cd monk_v1/installation/Linux && pip install -r requirements_cu9.txt"
   ]
  },
  {
   "cell_type": "code",
   "execution_count": null,
   "metadata": {},
   "outputs": [],
   "source": []
  },
  {
   "cell_type": "markdown",
   "metadata": {},
   "source": [
    "## Dataset - Bird species classification\n",
    "    - https://www.kaggle.com/gpiosenka/100-bird-species"
   ]
  },
  {
   "cell_type": "code",
   "execution_count": null,
   "metadata": {},
   "outputs": [],
   "source": [
    "! wget --load-cookies /tmp/cookies.txt \"https://docs.google.com/uc?export=download&confirm=$(wget --save-cookies /tmp/cookies.txt --keep-session-cookies --no-check-certificate 'https://docs.google.com/uc?export=download&id=1xIz6KKVnt1OUUkx0tkKdyPEQD0kgt8QR' -O- | sed -rn 's/.*confirm=([0-9A-Za-z_]+).*/\\1\\n/p')&id=1xIz6KKVnt1OUUkx0tkKdyPEQD0kgt8QR\" -O 100-bird-species.zip && rm -rf /tmp/cookies.txt"
   ]
  },
  {
   "cell_type": "code",
   "execution_count": 2,
   "metadata": {},
   "outputs": [],
   "source": [
    "! unzip -qq 100-bird-species.zip"
   ]
  },
  {
   "cell_type": "code",
   "execution_count": null,
   "metadata": {},
   "outputs": [],
   "source": []
  },
  {
   "cell_type": "code",
   "execution_count": null,
   "metadata": {},
   "outputs": [],
   "source": []
  },
  {
   "cell_type": "code",
   "execution_count": null,
   "metadata": {},
   "outputs": [],
   "source": []
  },
  {
   "cell_type": "markdown",
   "metadata": {},
   "source": [
    "# Imports"
   ]
  },
  {
   "cell_type": "code",
   "execution_count": 1,
   "metadata": {},
   "outputs": [],
   "source": [
    "# Monk\n",
    "import os\n",
    "import sys\n",
    "sys.path.append(\"monk_v1/monk/\");"
   ]
  },
  {
   "cell_type": "code",
   "execution_count": 2,
   "metadata": {},
   "outputs": [],
   "source": [
    "#Using keras backend \n",
    "from keras_prototype import prototype"
   ]
  },
  {
   "cell_type": "code",
   "execution_count": null,
   "metadata": {},
   "outputs": [],
   "source": []
  },
  {
   "cell_type": "code",
   "execution_count": null,
   "metadata": {},
   "outputs": [],
   "source": []
  },
  {
   "cell_type": "code",
   "execution_count": null,
   "metadata": {},
   "outputs": [],
   "source": []
  },
  {
   "cell_type": "code",
   "execution_count": null,
   "metadata": {},
   "outputs": [],
   "source": []
  },
  {
   "cell_type": "markdown",
   "metadata": {},
   "source": [
    "<a id='1'></a>\n",
    "# Use pretrained weights in resnet50 and train a classifier"
   ]
  },
  {
   "cell_type": "code",
   "execution_count": null,
   "metadata": {},
   "outputs": [],
   "source": []
  },
  {
   "cell_type": "markdown",
   "metadata": {},
   "source": [
    "## Creating and managing experiments\n",
    "    - Provide project name\n",
    "    - Provide experiment name\n",
    "    - For a specific data create a single project\n",
    "    - Inside each project multiple experiments can be created\n",
    "    - Every experiment can be have diferent hyper-parameters attached to it"
   ]
  },
  {
   "cell_type": "code",
   "execution_count": 3,
   "metadata": {},
   "outputs": [
    {
     "name": "stdout",
     "output_type": "stream",
     "text": [
      "Keras Version: 2.2.5\n",
      "Tensorflow Version: 1.12.0\n",
      "\n",
      "Experiment Details\n",
      "    Project: Project\n",
      "    Experiment: Use_Pretrained\n",
      "    Dir: /home/abhi/Desktop/Work/tess_tool/gui/v0.3/finetune_models/Organization/development/v5.3_roadmaps/2_transfer_learning_roadmap/7_effect_of_pretrained_weights/workspace/Project/Use_Pretrained/\n",
      "\n"
     ]
    }
   ],
   "source": [
    "gtf = prototype(verbose=1);\n",
    "gtf.Prototype(\"Project\", \"Use_Pretrained\");"
   ]
  },
  {
   "cell_type": "markdown",
   "metadata": {},
   "source": [
    "### This creates files and directories as per the following structure\n",
    "    \n",
    "    \n",
    "    workspace\n",
    "        |\n",
    "        |--------Project\n",
    "                        |\n",
    "                        |\n",
    "                        |-----Use_Pretrained\n",
    "                                    |\n",
    "                                    |-----experiment-state.json\n",
    "                                    |\n",
    "                                    |-----output\n",
    "                                            |\n",
    "                                            |------logs (All training logs and graphs saved here)\n",
    "                                            |\n",
    "                                            |------models (all trained models saved here)\n",
    "                                    "
   ]
  },
  {
   "cell_type": "code",
   "execution_count": null,
   "metadata": {},
   "outputs": [],
   "source": []
  },
  {
   "cell_type": "code",
   "execution_count": null,
   "metadata": {},
   "outputs": [],
   "source": []
  },
  {
   "cell_type": "markdown",
   "metadata": {},
   "source": [
    "## Set dataset and select the model"
   ]
  },
  {
   "cell_type": "code",
   "execution_count": null,
   "metadata": {},
   "outputs": [],
   "source": []
  },
  {
   "cell_type": "markdown",
   "metadata": {},
   "source": [
    "      \n",
    "## Sample Dataset folder structure\n",
    "\n",
    "    100-bird-species\n",
    "        |\n",
    "        |\n",
    "        |----train\n",
    "                |------ALBATROSS\n",
    "                        |\n",
    "                        |------img1.jpg\n",
    "                        |------img2.jpg\n",
    "                        |------.... (and so on)\n",
    "                |------CASSOWARY\n",
    "                        |\n",
    "                        |------img1.jpg\n",
    "                        |------img2.jpg\n",
    "                        |------.... (and so on)  \n",
    "                |---- .... (and so on)'\n",
    "        |\n",
    "        |\n",
    "        |-----valid\n",
    "                |------ALBATROSS\n",
    "                        |\n",
    "                        |------img1.jpg\n",
    "                        |------img2.jpg\n",
    "                        |------.... (and so on)\n",
    "                |------CASSOWARY\n",
    "                        |\n",
    "                        |------img1.jpg\n",
    "                        |------img2.jpg\n",
    "                        |------.... (and so on)  \n",
    "                |---- .... (and so on)"
   ]
  },
  {
   "cell_type": "code",
   "execution_count": null,
   "metadata": {},
   "outputs": [],
   "source": []
  },
  {
   "cell_type": "code",
   "execution_count": 4,
   "metadata": {},
   "outputs": [
    {
     "name": "stdout",
     "output_type": "stream",
     "text": [
      "Dataset Details\n",
      "    Train path:     100-bird-species/train\n",
      "    Val path:       None\n",
      "    CSV train path: None\n",
      "    CSV val path:  None\n",
      "\n",
      "Dataset Params\n",
      "    Input Size:  224\n",
      "    Batch Size:  4\n",
      "    Data Shuffle: True\n",
      "    Processors:   4\n",
      "    Train-val split:   0.7\n",
      "\n",
      "Found 13909 images belonging to 150 classes.\n",
      "Found 5865 images belonging to 150 classes.\n",
      "Pre-Composed Train Transforms\n",
      "[{'RandomHorizontalFlip': {'p': 0.8}}, {'MeanSubtraction': {'mean': [0.485, 0.456, 0.406]}}]\n",
      "\n",
      "Pre-Composed Val Transforms\n",
      "[{'RandomHorizontalFlip': {'p': 0.8}}, {'MeanSubtraction': {'mean': [0.485, 0.456, 0.406]}}]\n",
      "\n",
      "Dataset Numbers\n",
      "    Num train images: 13909\n",
      "    Num val images:   5865\n",
      "    Num classes:      150\n",
      "\n",
      "Model Params\n",
      "    Model name:           resnet50\n",
      "    Use Gpu:              True\n",
      "    Gpu Memory Fraction:  0.6\n",
      "    Use pretrained:       True\n",
      "    Freeze base network:  False\n",
      "\n",
      "Model Details\n",
      "    Loading pretrained model\n",
      "    Model Loaded on device\n",
      "        Model name:                           resnet50\n",
      "        Num layers in model:  108\n",
      "        Num trainable layers: 108\n",
      "\n",
      "Optimizer\n",
      "    Name:          sgd\n",
      "    Learning rate: 0.0001\n",
      "    Params:        {'lr': 0.0001, 'momentum': 0.9, 'weight_decay': 0, 'momentum_dampening_rate': 0, 'clipnorm': 0.0, 'clipvalue': 0.0}\n",
      "\n",
      "\n",
      "\n",
      "Learning rate scheduler\n",
      "    Name:   reduceonplateaulr\n",
      "    Params: {'mode': 'min', 'factor': 0.1, 'patience': 1, 'verbose': True, 'threshold': 0.0001, 'threshold_mode': 'rel', 'cooldown': 0, 'min_lr': 0, 'epsilon': 1e-08}\n",
      "\n",
      "Loss\n",
      "    Name:          crossentropy\n",
      "    Params:        {'weight': None, 'batch_axis': 0, 'axis_to_sum_over': -1, 'label_as_categories': True, 'label_smoothing': False}\n",
      "\n",
      "Training params\n",
      "    Num Epochs: 5\n",
      "\n",
      "Display params\n",
      "    Display progress:          True\n",
      "    Display progress realtime: True\n",
      "    Save Training logs:        True\n",
      "    Save Intermediate models:  True\n",
      "    Intermediate model prefix: intermediate_model_\n",
      "\n"
     ]
    }
   ],
   "source": [
    "gtf.Default(dataset_path=\"100-bird-species/train\", \n",
    "            model_name=\"resnet50\", \n",
    "            freeze_base_network=False,   \n",
    "            num_epochs=5);\n",
    "\n",
    "#Read the summary generated once you run this cell. "
   ]
  },
  {
   "cell_type": "code",
   "execution_count": null,
   "metadata": {},
   "outputs": [],
   "source": []
  },
  {
   "cell_type": "markdown",
   "metadata": {},
   "source": [
    "## From the summary above\n",
    "\n",
    "    - Model Params\n",
    "        Model name:           resnet50\n",
    "        Use Gpu:              True\n",
    "        \n",
    "        \n",
    "        Use pretrained:       True\n",
    "        \n",
    "        \n",
    "        Freeze base network:  False"
   ]
  },
  {
   "cell_type": "code",
   "execution_count": null,
   "metadata": {},
   "outputs": [],
   "source": []
  },
  {
   "cell_type": "markdown",
   "metadata": {},
   "source": [
    "## Default is using pretrained networks"
   ]
  },
  {
   "cell_type": "code",
   "execution_count": null,
   "metadata": {},
   "outputs": [],
   "source": []
  },
  {
   "cell_type": "markdown",
   "metadata": {},
   "source": [
    "## Train the classifier"
   ]
  },
  {
   "cell_type": "code",
   "execution_count": null,
   "metadata": {},
   "outputs": [],
   "source": []
  },
  {
   "cell_type": "code",
   "execution_count": 5,
   "metadata": {},
   "outputs": [
    {
     "name": "stdout",
     "output_type": "stream",
     "text": [
      "Training Start\n",
      "Epoch 1/5\n",
      "3477/3477 [==============================] - 316s 91ms/step - loss: 4.4778 - acc: 0.1023 - val_loss: 2.5945 - val_acc: 0.4850\n",
      "\n",
      "Epoch 00001: saving model to workspace/Project/Use_Pretrained/output/models/resume_state.h5\n",
      "\n",
      "Epoch 00001: val_loss improved from inf to 2.59455, saving model to workspace/Project/Use_Pretrained/output/models/best_model.h5\n",
      "\n",
      "Epoch 00001: saving model to workspace/Project/Use_Pretrained/output/models/intermediate_model_01.h5\n",
      "Epoch 2/5\n",
      "3477/3477 [==============================] - 307s 88ms/step - loss: 2.6199 - acc: 0.4199 - val_loss: 1.0325 - val_acc: 0.7620\n",
      "\n",
      "Epoch 00002: saving model to workspace/Project/Use_Pretrained/output/models/resume_state.h5\n",
      "\n",
      "Epoch 00002: val_loss improved from 2.59455 to 1.03251, saving model to workspace/Project/Use_Pretrained/output/models/best_model.h5\n",
      "\n",
      "Epoch 00002: saving model to workspace/Project/Use_Pretrained/output/models/intermediate_model_02.h5\n",
      "Epoch 3/5\n",
      "3477/3477 [==============================] - 307s 88ms/step - loss: 1.4721 - acc: 0.6598 - val_loss: 0.6210 - val_acc: 0.8463\n",
      "\n",
      "Epoch 00003: saving model to workspace/Project/Use_Pretrained/output/models/resume_state.h5\n",
      "\n",
      "Epoch 00003: val_loss improved from 1.03251 to 0.62099, saving model to workspace/Project/Use_Pretrained/output/models/best_model.h5\n",
      "\n",
      "Epoch 00003: saving model to workspace/Project/Use_Pretrained/output/models/intermediate_model_03.h5\n",
      "Epoch 4/5\n",
      "3477/3477 [==============================] - 313s 90ms/step - loss: 0.9370 - acc: 0.7849 - val_loss: 0.4743 - val_acc: 0.8756\n",
      "\n",
      "Epoch 00004: saving model to workspace/Project/Use_Pretrained/output/models/resume_state.h5\n",
      "\n",
      "Epoch 00004: val_loss improved from 0.62099 to 0.47425, saving model to workspace/Project/Use_Pretrained/output/models/best_model.h5\n",
      "\n",
      "Epoch 00004: saving model to workspace/Project/Use_Pretrained/output/models/intermediate_model_04.h5\n",
      "Epoch 5/5\n",
      "3477/3477 [==============================] - 317s 91ms/step - loss: 0.6631 - acc: 0.8437 - val_loss: 0.4067 - val_acc: 0.8932\n",
      "\n",
      "Epoch 00005: saving model to workspace/Project/Use_Pretrained/output/models/resume_state.h5\n",
      "\n",
      "Epoch 00005: val_loss improved from 0.47425 to 0.40666, saving model to workspace/Project/Use_Pretrained/output/models/best_model.h5\n",
      "\n",
      "Epoch 00005: saving model to workspace/Project/Use_Pretrained/output/models/intermediate_model_05.h5\n",
      "    Training completed in: 26m 0s\n",
      "    Best val Acc:          0.893192\n",
      "\n",
      "Training End\n",
      "\n",
      "Training Outputs\n",
      "    Model Dir:   /home/abhi/Desktop/Work/tess_tool/gui/v0.3/finetune_models/Organization/development/v5.3_roadmaps/2_transfer_learning_roadmap/7_effect_of_pretrained_weights/workspace/Project/Use_Pretrained/output/models/\n",
      "    Log Dir:     /home/abhi/Desktop/Work/tess_tool/gui/v0.3/finetune_models/Organization/development/v5.3_roadmaps/2_transfer_learning_roadmap/7_effect_of_pretrained_weights/workspace/Project/Use_Pretrained/output/logs/\n",
      "    Final model: final\n",
      "    Best model:  best_model\n",
      "    Log 1 - Validation accuracy history log: val_acc_history.npy\n",
      "    Log 2 - Validation loss history log:     val_loss_history.npy\n",
      "    Log 3 - Training accuracy history log:   train_acc_history.npy\n",
      "    Log 4 - Training loss history log:       train_loss_history.npy\n",
      "    Log 5 - Training curve:                  train_loss_history.npy\n",
      "    Log 6 - Validation curve:                train_loss_history.npy\n",
      "\n"
     ]
    },
    {
     "data": {
      "text/plain": [
       "<Figure size 432x288 with 0 Axes>"
      ]
     },
     "metadata": {},
     "output_type": "display_data"
    }
   ],
   "source": [
    "#Start Training\n",
    "gtf.Train();\n",
    "\n",
    "#Read the training summary generated once you run the cell and training is completed"
   ]
  },
  {
   "cell_type": "code",
   "execution_count": null,
   "metadata": {},
   "outputs": [],
   "source": []
  },
  {
   "cell_type": "code",
   "execution_count": null,
   "metadata": {},
   "outputs": [],
   "source": []
  },
  {
   "cell_type": "markdown",
   "metadata": {},
   "source": [
    "## Validating the trained classifier"
   ]
  },
  {
   "cell_type": "code",
   "execution_count": 17,
   "metadata": {},
   "outputs": [],
   "source": []
  },
  {
   "cell_type": "markdown",
   "metadata": {},
   "source": [
    "## Load the experiment in validation mode\n",
    "    - Set flag eval_infer as True"
   ]
  },
  {
   "cell_type": "code",
   "execution_count": 6,
   "metadata": {},
   "outputs": [
    {
     "name": "stdout",
     "output_type": "stream",
     "text": [
      "Keras Version: 2.2.5\n",
      "Tensorflow Version: 1.12.0\n",
      "\n",
      "Model Details\n",
      "    Loading model - workspace/Project/Use_Pretrained/output/models/final.h5\n",
      "    Model loaded!\n",
      "\n",
      "Experiment Details\n",
      "    Project: Project\n",
      "    Experiment: Use_Pretrained\n",
      "    Dir: /home/abhi/Desktop/Work/tess_tool/gui/v0.3/finetune_models/Organization/development/v5.3_roadmaps/2_transfer_learning_roadmap/7_effect_of_pretrained_weights/workspace/Project/Use_Pretrained/\n",
      "\n"
     ]
    }
   ],
   "source": [
    "gtf = prototype(verbose=1);\n",
    "gtf.Prototype(\"Project\", \"Use_Pretrained\", eval_infer=True);"
   ]
  },
  {
   "cell_type": "code",
   "execution_count": null,
   "metadata": {},
   "outputs": [],
   "source": []
  },
  {
   "cell_type": "markdown",
   "metadata": {},
   "source": [
    "## Load the validation dataset"
   ]
  },
  {
   "cell_type": "code",
   "execution_count": 7,
   "metadata": {},
   "outputs": [
    {
     "name": "stdout",
     "output_type": "stream",
     "text": [
      "Dataset Details\n",
      "    Test path:     100-bird-species/valid\n",
      "    CSV test path:  None\n",
      "\n",
      "Dataset Params\n",
      "    Input Size:  224\n",
      "    Processors:   4\n",
      "\n",
      "Found 750 images belonging to 150 classes.\n",
      "Pre-Composed Test Transforms\n",
      "[{'MeanSubtraction': {'mean': [0.485, 0.456, 0.406]}}]\n",
      "\n",
      "Dataset Numbers\n",
      "    Num test images: 750\n",
      "    Num classes:      150\n",
      "\n"
     ]
    }
   ],
   "source": [
    "gtf.Dataset_Params(dataset_path=\"100-bird-species/valid\");\n",
    "gtf.Dataset();"
   ]
  },
  {
   "cell_type": "code",
   "execution_count": null,
   "metadata": {},
   "outputs": [],
   "source": []
  },
  {
   "cell_type": "markdown",
   "metadata": {},
   "source": [
    "## Run validation"
   ]
  },
  {
   "cell_type": "code",
   "execution_count": 8,
   "metadata": {},
   "outputs": [
    {
     "name": "stdout",
     "output_type": "stream",
     "text": [
      "Testing\n",
      "750/750 [==============================] - 12s 16ms/step\n",
      "\n",
      "    Result\n",
      "        class based accuracies\n",
      "            0. ALBATROSS - 80.0 %\n",
      "            1. ALEXANDRINE PARAKEET - 100.0 %\n",
      "            2. AMERICAN AVOCET - 80.0 %\n",
      "            3. AMERICAN BITTERN - 100.0 %\n",
      "            4. AMERICAN COOT - 100.0 %\n",
      "            5. AMERICAN GOLDFINCH - 100.0 %\n",
      "            6. AMERICAN KESTREL - 100.0 %\n",
      "            7. AMERICAN REDSTART - 60.0 %\n",
      "            8. ANHINGA - 100.0 %\n",
      "            9. ANNAS HUMMINGBIRD - 100.0 %\n",
      "            10. BALD EAGLE - 100.0 %\n",
      "            11. BALTIMORE ORIOLE - 100.0 %\n",
      "            12. BANANAQUIT - 100.0 %\n",
      "            13. BAR-TAILED GODWIT - 100.0 %\n",
      "            14. BARN OWL - 100.0 %\n",
      "            15. BARN SWALLOW - 100.0 %\n",
      "            16. BAY-BREASTED WARBLER - 100.0 %\n",
      "            17. BELTED KINGFISHER - 100.0 %\n",
      "            18. BIRD OF PARADISE - 100.0 %\n",
      "            19. BLACK FRANCOLIN - 100.0 %\n",
      "            20. BLACK SKIMMER - 100.0 %\n",
      "            21. BLACK SWAN - 100.0 %\n",
      "            22. BLACK THROATED WARBLER - 100.0 %\n",
      "            23. BLACK-CAPPED CHICKADEE - 100.0 %\n",
      "            24. BLACK-NECKED GREBE - 80.0 %\n",
      "            25. BLACKBURNIAM WARBLER - 100.0 %\n",
      "            26. BLUE HERON - 100.0 %\n",
      "            27. BOBOLINK - 60.0 %\n",
      "            28. BROWN THRASHER - 80.0 %\n",
      "            29. CACTUS WREN - 100.0 %\n",
      "            30. CALIFORNIA CONDOR - 100.0 %\n",
      "            31. CALIFORNIA GULL - 100.0 %\n",
      "            32. CALIFORNIA QUAIL - 100.0 %\n",
      "            33. CAPE MAY WARBLER - 80.0 %\n",
      "            34. CASSOWARY - 100.0 %\n",
      "            35. CHARA DE COLLAR - 100.0 %\n",
      "            36. CHIPPING SPARROW - 80.0 %\n",
      "            37. CINNAMON TEAL - 100.0 %\n",
      "            38. COCK OF THE  ROCK - 100.0 %\n",
      "            39. COCKATOO - 100.0 %\n",
      "            40. COMMON GRACKLE - 100.0 %\n",
      "            41. COMMON HOUSE MARTIN - 80.0 %\n",
      "            42. COMMON LOON - 100.0 %\n",
      "            43. COMMON POORWILL - 100.0 %\n",
      "            44. COMMON STARLING - 100.0 %\n",
      "            45. COUCHS KINGBIRD - 100.0 %\n",
      "            46. CRESTED AUKLET - 100.0 %\n",
      "            47. CRESTED CARACARA - 100.0 %\n",
      "            48. CROW - 100.0 %\n",
      "            49. CROWNED PIGEON - 100.0 %\n",
      "            50. CURL CRESTED ARACURI - 100.0 %\n",
      "            51. DARK EYED JUNCO - 100.0 %\n",
      "            52. DOWNY WOODPECKER - 100.0 %\n",
      "            53. EASTERN BLUEBIRD - 80.0 %\n",
      "            54. EASTERN ROSELLA - 100.0 %\n",
      "            55. EASTERN TOWEE - 100.0 %\n",
      "            56. ELEGANT TROGON - 100.0 %\n",
      "            57. ELLIOTS  PHEASANT - 60.0 %\n",
      "            58. EMPEROR PENGUIN - 100.0 %\n",
      "            59. EMU - 100.0 %\n",
      "            60. EVENING GROSBEAK - 100.0 %\n",
      "            61. FLAME TANAGER - 80.0 %\n",
      "            62. FLAMINGO - 100.0 %\n",
      "            63. FRIGATE - 100.0 %\n",
      "            64. GLOSSY IBIS - 100.0 %\n",
      "            65. GOLD WING WARBLER - 100.0 %\n",
      "            66. GOLDEN CHLOROPHONIA - 100.0 %\n",
      "            67. GOLDEN EAGLE - 100.0 %\n",
      "            68. GOLDEN PHEASANT - 100.0 %\n",
      "            69. GOULDIAN FINCH - 100.0 %\n",
      "            70. GRAY CATBIRD - 100.0 %\n",
      "            71. GRAY PARTRIDGE - 100.0 %\n",
      "            72. GREEN JAY - 100.0 %\n",
      "            73. GREY PLOVER - 100.0 %\n",
      "            74. GUINEAFOWL - 100.0 %\n",
      "            75. HAWAIIAN GOOSE - 100.0 %\n",
      "            76. HOODED MERGANSER - 100.0 %\n",
      "            77. HOOPOES - 100.0 %\n",
      "            78. HORNBILL - 100.0 %\n",
      "            79. HOUSE FINCH - 100.0 %\n",
      "            80. HOUSE SPARROW - 100.0 %\n",
      "            81. HYACINTH MACAW - 100.0 %\n",
      "            82. INDIGO BUNTING - 100.0 %\n",
      "            83. JABIRU - 100.0 %\n",
      "            84. LARK BUNTING - 60.0 %\n",
      "            85. LILAC ROLLER - 100.0 %\n",
      "            86. LONG-EARED OWL - 100.0 %\n",
      "            87. MALLARD DUCK - 60.0 %\n",
      "            88. MANDRIN DUCK - 100.0 %\n",
      "            89. MARABOU STORK - 80.0 %\n",
      "            90. MIKADO  PHEASANT - 60.0 %\n",
      "            91. MOURNING DOVE - 100.0 %\n",
      "            92. MYNA - 100.0 %\n",
      "            93. NICOBAR PIGEON - 100.0 %\n",
      "            94. NORTHERN CARDINAL - 100.0 %\n",
      "            95. NORTHERN FLICKER - 100.0 %\n",
      "            96. NORTHERN GOSHAWK - 100.0 %\n",
      "            97. NORTHERN JACANA - 100.0 %\n",
      "            98. NORTHERN MOCKINGBIRD - 100.0 %\n",
      "            99. NORTHERN RED BISHOP - 100.0 %\n",
      "            100. OSPREY - 60.0 %\n",
      "            101. OSTRICH - 100.0 %\n",
      "            102. PAINTED BUNTIG - 100.0 %\n",
      "            103. PARADISE TANAGER - 100.0 %\n",
      "            104. PARUS MAJOR - 100.0 %\n",
      "            105. PEACOCK - 100.0 %\n",
      "            106. PELICAN - 100.0 %\n",
      "            107. PEREGRINE FALCON - 100.0 %\n",
      "            108. PINK ROBIN - 80.0 %\n",
      "            109. PUFFIN - 100.0 %\n",
      "            110. PURPLE FINCH - 40.0 %\n",
      "            111. PURPLE GALLINULE - 40.0 %\n",
      "            112. PURPLE MARTIN - 100.0 %\n",
      "            113. PURPLE SWAMPHEN - 100.0 %\n",
      "            114. QUETZAL - 100.0 %\n",
      "            115. RAINBOW LORIKEET - 100.0 %\n",
      "            116. RED FACED CORMORANT - 100.0 %\n",
      "            117. RED HEADED WOODPECKER - 80.0 %\n",
      "            118. RED THROATED BEE EATER - 100.0 %\n",
      "            119. RED WINGED BLACKBIRD - 60.0 %\n",
      "            120. RED WISKERED BULBUL - 100.0 %\n",
      "            121. RING-NECKED PHEASANT - 100.0 %\n",
      "            122. ROADRUNNER - 100.0 %\n",
      "            123. ROBIN - 100.0 %\n",
      "            124. ROSY FACED LOVEBIRD - 100.0 %\n",
      "            125. ROUGH LEG BUZZARD - 40.0 %\n",
      "            126. RUBY THROATED HUMMINGBIRD - 100.0 %\n",
      "            127. SAND MARTIN - 100.0 %\n",
      "            128. SCARLET IBIS - 100.0 %\n",
      "            129. SCARLET MACAW - 100.0 %\n",
      "            130. SNOWY EGRET - 100.0 %\n",
      "            131. SPLENDID WREN - 80.0 %\n",
      "            132. SPOONBILL - 80.0 %\n",
      "            133. STORK BILLED KINGFISHER - 100.0 %\n",
      "            134. STRAWBERRY FINCH - 100.0 %\n",
      "            135. TEAL DUCK - 80.0 %\n",
      "            136. TIT MOUSE - 100.0 %\n",
      "            137. TOUCHAN - 100.0 %\n",
      "            138. TRUMPTER SWAN - 100.0 %\n",
      "            139. TURKEY VULTURE - 100.0 %\n",
      "            140. TURQUOISE MOTMOT - 100.0 %\n",
      "            141. VARIED THRUSH - 100.0 %\n",
      "            142. VENEZUELIAN TROUPIAL - 100.0 %\n",
      "            143. VERMILION FLYCATHER - 100.0 %\n",
      "            144. VIOLET GREEN SWALLOW - 100.0 %\n",
      "            145. WESTERN MEADOWLARK - 100.0 %\n",
      "            146. WILD TURKEY - 100.0 %\n",
      "            147. WILSONS BIRD OF PARADISE - 100.0 %\n",
      "            148. WOOD DUCK - 100.0 %\n",
      "            149. YELLOW HEADED BLACKBIRD - 80.0 %\n",
      "        total images:            750\n",
      "        num correct predictions: 709\n",
      "        Average accuracy (%):    94.53333333333333\n",
      "\n"
     ]
    }
   ],
   "source": [
    "accuracy, class_based_accuracy = gtf.Evaluate();"
   ]
  },
  {
   "cell_type": "code",
   "execution_count": null,
   "metadata": {},
   "outputs": [],
   "source": []
  },
  {
   "cell_type": "markdown",
   "metadata": {},
   "source": [
    "### Accuracy achieved - 94.53\n",
    "(You may get a different result)"
   ]
  },
  {
   "cell_type": "code",
   "execution_count": null,
   "metadata": {},
   "outputs": [],
   "source": []
  },
  {
   "cell_type": "code",
   "execution_count": null,
   "metadata": {},
   "outputs": [],
   "source": []
  },
  {
   "cell_type": "code",
   "execution_count": null,
   "metadata": {},
   "outputs": [],
   "source": []
  },
  {
   "cell_type": "code",
   "execution_count": null,
   "metadata": {},
   "outputs": [],
   "source": []
  },
  {
   "cell_type": "code",
   "execution_count": null,
   "metadata": {},
   "outputs": [],
   "source": []
  },
  {
   "cell_type": "markdown",
   "metadata": {},
   "source": [
    "<a id='2'></a>\n",
    "# Use randomly initialized weights and train a classifier"
   ]
  },
  {
   "cell_type": "code",
   "execution_count": null,
   "metadata": {},
   "outputs": [],
   "source": []
  },
  {
   "cell_type": "markdown",
   "metadata": {},
   "source": [
    "## Creating and managing experiments\n",
    "    - Provide project name\n",
    "    - Provide experiment name\n",
    "    - For a specific data create a single project\n",
    "    - Inside each project multiple experiments can be created\n",
    "    - Every experiment can be have diferent hyper-parameters attached to it"
   ]
  },
  {
   "cell_type": "code",
   "execution_count": 9,
   "metadata": {},
   "outputs": [
    {
     "name": "stdout",
     "output_type": "stream",
     "text": [
      "Keras Version: 2.2.5\n",
      "Tensorflow Version: 1.12.0\n",
      "\n",
      "Experiment Details\n",
      "    Project: Project\n",
      "    Experiment: Use_Random_Initialization\n",
      "    Dir: /home/abhi/Desktop/Work/tess_tool/gui/v0.3/finetune_models/Organization/development/v5.3_roadmaps/2_transfer_learning_roadmap/7_effect_of_pretrained_weights/workspace/Project/Use_Random_Initialization/\n",
      "\n"
     ]
    }
   ],
   "source": [
    "gtf = prototype(verbose=1);\n",
    "gtf.Prototype(\"Project\", \"Use_Random_Initialization\");"
   ]
  },
  {
   "cell_type": "markdown",
   "metadata": {},
   "source": [
    "### This creates files and directories as per the following structure\n",
    "    \n",
    "    \n",
    "    workspace\n",
    "        |\n",
    "        |--------Project\n",
    "                    |\n",
    "                    |\n",
    "                    |-----Use_Pretrained (Previously created)\n",
    "                                |\n",
    "                                |-----experiment-state.json\n",
    "                                |\n",
    "                                |-----output\n",
    "                                        |\n",
    "                                        |------logs (All training logs and graphs saved here)\n",
    "                                        |\n",
    "                                        |------models (all trained models saved here)\n",
    "                     |\n",
    "                     |\n",
    "                     |-----Use_Random_Initialization (Created Now)\n",
    "                                |\n",
    "                                |-----experiment-state.json\n",
    "                                |\n",
    "                                |-----output\n",
    "                                        |\n",
    "                                        |------logs (All training logs and graphs saved here)\n",
    "                                        |\n",
    "                                        |------models (all trained models saved here)"
   ]
  },
  {
   "cell_type": "code",
   "execution_count": null,
   "metadata": {},
   "outputs": [],
   "source": []
  },
  {
   "cell_type": "markdown",
   "metadata": {},
   "source": [
    "## Set dataset and select the model"
   ]
  },
  {
   "cell_type": "markdown",
   "metadata": {},
   "source": [
    "       \n",
    "## Sample Dataset folder structure\n",
    "\n",
    "    100-bird-species\n",
    "        |\n",
    "        |\n",
    "        |----train\n",
    "                |------ALBATROSS\n",
    "                        |\n",
    "                        |------img1.jpg\n",
    "                        |------img2.jpg\n",
    "                        |------.... (and so on)\n",
    "                |------CASSOWARY\n",
    "                        |\n",
    "                        |------img1.jpg\n",
    "                        |------img2.jpg\n",
    "                        |------.... (and so on)  \n",
    "                |---- .... (and so on)'\n",
    "        |\n",
    "        |\n",
    "        |-----valid\n",
    "                |------ALBATROSS\n",
    "                        |\n",
    "                        |------img1.jpg\n",
    "                        |------img2.jpg\n",
    "                        |------.... (and so on)\n",
    "                |------CASSOWARY\n",
    "                        |\n",
    "                        |------img1.jpg\n",
    "                        |------img2.jpg\n",
    "                        |------.... (and so on)  \n",
    "                |---- .... (and so on)"
   ]
  },
  {
   "cell_type": "code",
   "execution_count": null,
   "metadata": {},
   "outputs": [],
   "source": []
  },
  {
   "cell_type": "code",
   "execution_count": null,
   "metadata": {},
   "outputs": [],
   "source": []
  },
  {
   "cell_type": "code",
   "execution_count": 10,
   "metadata": {},
   "outputs": [
    {
     "name": "stdout",
     "output_type": "stream",
     "text": [
      "Dataset Details\n",
      "    Train path:     100-bird-species/train\n",
      "    Val path:       None\n",
      "    CSV train path: None\n",
      "    CSV val path:  None\n",
      "\n",
      "Dataset Params\n",
      "    Input Size:  224\n",
      "    Batch Size:  4\n",
      "    Data Shuffle: True\n",
      "    Processors:   4\n",
      "    Train-val split:   0.7\n",
      "\n",
      "Found 13909 images belonging to 150 classes.\n",
      "Found 5865 images belonging to 150 classes.\n",
      "Pre-Composed Train Transforms\n",
      "[{'RandomHorizontalFlip': {'p': 0.8}}, {'MeanSubtraction': {'mean': [0.485, 0.456, 0.406]}}]\n",
      "\n",
      "Pre-Composed Val Transforms\n",
      "[{'RandomHorizontalFlip': {'p': 0.8}}, {'MeanSubtraction': {'mean': [0.485, 0.456, 0.406]}}]\n",
      "\n",
      "Dataset Numbers\n",
      "    Num train images: 13909\n",
      "    Num val images:   5865\n",
      "    Num classes:      150\n",
      "\n",
      "Model Params\n",
      "    Model name:           resnet50\n",
      "    Use Gpu:              True\n",
      "    Gpu Memory Fraction:  0.6\n",
      "    Use pretrained:       True\n",
      "    Freeze base network:  False\n",
      "\n",
      "Model Details\n",
      "    Loading pretrained model\n",
      "    Model Loaded on device\n",
      "        Model name:                           resnet50\n",
      "        Num layers in model:  108\n",
      "        Num trainable layers: 108\n",
      "\n",
      "Optimizer\n",
      "    Name:          sgd\n",
      "    Learning rate: 0.0001\n",
      "    Params:        {'lr': 0.0001, 'momentum': 0.9, 'weight_decay': 0, 'momentum_dampening_rate': 0, 'clipnorm': 0.0, 'clipvalue': 0.0}\n",
      "\n",
      "\n",
      "\n",
      "Learning rate scheduler\n",
      "    Name:   reduceonplateaulr\n",
      "    Params: {'mode': 'min', 'factor': 0.1, 'patience': 1, 'verbose': True, 'threshold': 0.0001, 'threshold_mode': 'rel', 'cooldown': 0, 'min_lr': 0, 'epsilon': 1e-08}\n",
      "\n",
      "Loss\n",
      "    Name:          crossentropy\n",
      "    Params:        {'weight': None, 'batch_axis': 0, 'axis_to_sum_over': -1, 'label_as_categories': True, 'label_smoothing': False}\n",
      "\n",
      "Training params\n",
      "    Num Epochs: 5\n",
      "\n",
      "Display params\n",
      "    Display progress:          True\n",
      "    Display progress realtime: True\n",
      "    Save Training logs:        True\n",
      "    Save Intermediate models:  True\n",
      "    Intermediate model prefix: intermediate_model_\n",
      "\n"
     ]
    }
   ],
   "source": [
    "gtf.Default(dataset_path=\"100-bird-species/train\", \n",
    "            model_name=\"resnet50\", \n",
    "            freeze_base_network=False,  \n",
    "            num_epochs=5);\n",
    "\n",
    "#Read the summary generated once you run this cell. "
   ]
  },
  {
   "cell_type": "code",
   "execution_count": null,
   "metadata": {},
   "outputs": [],
   "source": []
  },
  {
   "cell_type": "markdown",
   "metadata": {},
   "source": [
    "## From the summary above\n",
    "\n",
    "    - Model Params\n",
    "        Model name:           resnet50\n",
    "        Use Gpu:              True\n",
    "        Use pretrained:       True\n",
    "        \n",
    "        \n",
    "        Freeze base network:  False"
   ]
  },
  {
   "cell_type": "code",
   "execution_count": null,
   "metadata": {},
   "outputs": [],
   "source": []
  },
  {
   "cell_type": "markdown",
   "metadata": {},
   "source": [
    "## Switch to random initialization of network"
   ]
  },
  {
   "cell_type": "code",
   "execution_count": 11,
   "metadata": {},
   "outputs": [
    {
     "name": "stdout",
     "output_type": "stream",
     "text": [
      "Update: Use pretrained - False\n",
      "\n",
      "Found 13909 images belonging to 150 classes.\n",
      "Found 5865 images belonging to 150 classes.\n",
      "Pre-Composed Train Transforms\n",
      "[{'RandomHorizontalFlip': {'p': 0.8}}, {'MeanSubtraction': {'mean': [0.485, 0.456, 0.406]}}]\n",
      "\n",
      "Pre-Composed Val Transforms\n",
      "[{'RandomHorizontalFlip': {'p': 0.8}}, {'MeanSubtraction': {'mean': [0.485, 0.456, 0.406]}}]\n",
      "\n",
      "Dataset Numbers\n",
      "    Num train images: 13909\n",
      "    Num val images:   5865\n",
      "    Num classes:      150\n",
      "\n",
      "Model Details\n",
      "    Loading pretrained model\n",
      "    Model Loaded on device\n",
      "        Model name:                           resnet50\n",
      "        Num layers in model:  108\n",
      "        Num trainable layers: 108\n",
      "\n"
     ]
    }
   ],
   "source": [
    "gtf.update_use_pretrained(False);\n",
    "\n",
    "# Very important to reload post updates\n",
    "gtf.Reload();"
   ]
  },
  {
   "cell_type": "code",
   "execution_count": null,
   "metadata": {},
   "outputs": [],
   "source": []
  },
  {
   "cell_type": "code",
   "execution_count": null,
   "metadata": {},
   "outputs": [],
   "source": []
  },
  {
   "cell_type": "code",
   "execution_count": null,
   "metadata": {},
   "outputs": [],
   "source": []
  },
  {
   "cell_type": "code",
   "execution_count": null,
   "metadata": {},
   "outputs": [],
   "source": []
  },
  {
   "cell_type": "markdown",
   "metadata": {},
   "source": [
    "## Train the classifier"
   ]
  },
  {
   "cell_type": "code",
   "execution_count": 12,
   "metadata": {},
   "outputs": [
    {
     "name": "stdout",
     "output_type": "stream",
     "text": [
      "Training Start\n",
      "Epoch 1/5\n",
      "3477/3477 [==============================] - 371s 107ms/step - loss: 5.0382 - acc: 0.0092 - val_loss: 5.0202 - val_acc: 0.0111\n",
      "\n",
      "Epoch 00001: saving model to workspace/Project/Use_Random_Initialization/output/models/resume_state.h5\n",
      "\n",
      "Epoch 00001: val_loss improved from inf to 5.02021, saving model to workspace/Project/Use_Random_Initialization/output/models/best_model.h5\n",
      "\n",
      "Epoch 00001: saving model to workspace/Project/Use_Random_Initialization/output/models/intermediate_model_01.h5\n",
      "Epoch 2/5\n",
      "3477/3477 [==============================] - 310s 89ms/step - loss: 4.9928 - acc: 0.0127 - val_loss: 5.0524 - val_acc: 0.0162\n",
      "\n",
      "Epoch 00002: saving model to workspace/Project/Use_Random_Initialization/output/models/resume_state.h5\n",
      "\n",
      "Epoch 00002: val_loss did not improve from 5.02021\n",
      "\n",
      "Epoch 00002: saving model to workspace/Project/Use_Random_Initialization/output/models/intermediate_model_02.h5\n",
      "\n",
      "Epoch 00002: ReduceLROnPlateau reducing learning rate to 9.999999747378752e-06.\n",
      "Epoch 3/5\n",
      "3477/3477 [==============================] - 314s 90ms/step - loss: 4.9737 - acc: 0.0161 - val_loss: 5.0119 - val_acc: 0.0157\n",
      "\n",
      "Epoch 00003: saving model to workspace/Project/Use_Random_Initialization/output/models/resume_state.h5\n",
      "\n",
      "Epoch 00003: val_loss improved from 5.02021 to 5.01190, saving model to workspace/Project/Use_Random_Initialization/output/models/best_model.h5\n",
      "\n",
      "Epoch 00003: saving model to workspace/Project/Use_Random_Initialization/output/models/intermediate_model_03.h5\n",
      "Epoch 4/5\n",
      "3477/3477 [==============================] - 320s 92ms/step - loss: 4.9705 - acc: 0.0155 - val_loss: 5.0282 - val_acc: 0.0179\n",
      "\n",
      "Epoch 00004: saving model to workspace/Project/Use_Random_Initialization/output/models/resume_state.h5\n",
      "\n",
      "Epoch 00004: val_loss did not improve from 5.01190\n",
      "\n",
      "Epoch 00004: saving model to workspace/Project/Use_Random_Initialization/output/models/intermediate_model_04.h5\n",
      "\n",
      "Epoch 00004: ReduceLROnPlateau reducing learning rate to 9.999999747378752e-07.\n",
      "Epoch 5/5\n",
      "3477/3477 [==============================] - 322s 93ms/step - loss: 4.9657 - acc: 0.0165 - val_loss: 5.0148 - val_acc: 0.0157\n",
      "\n",
      "Epoch 00005: saving model to workspace/Project/Use_Random_Initialization/output/models/resume_state.h5\n",
      "\n",
      "Epoch 00005: val_loss did not improve from 5.01190\n",
      "\n",
      "Epoch 00005: saving model to workspace/Project/Use_Random_Initialization/output/models/intermediate_model_05.h5\n",
      "\n",
      "Epoch 00005: ReduceLROnPlateau reducing learning rate to 9.999999974752428e-08.\n",
      "    Training completed in: 27m 18s\n",
      "    Best val Acc:          0.017915\n",
      "\n",
      "Training End\n",
      "\n",
      "Training Outputs\n",
      "    Model Dir:   /home/abhi/Desktop/Work/tess_tool/gui/v0.3/finetune_models/Organization/development/v5.3_roadmaps/2_transfer_learning_roadmap/7_effect_of_pretrained_weights/workspace/Project/Use_Random_Initialization/output/models/\n",
      "    Log Dir:     /home/abhi/Desktop/Work/tess_tool/gui/v0.3/finetune_models/Organization/development/v5.3_roadmaps/2_transfer_learning_roadmap/7_effect_of_pretrained_weights/workspace/Project/Use_Random_Initialization/output/logs/\n",
      "    Final model: final\n",
      "    Best model:  best_model\n",
      "    Log 1 - Validation accuracy history log: val_acc_history.npy\n",
      "    Log 2 - Validation loss history log:     val_loss_history.npy\n",
      "    Log 3 - Training accuracy history log:   train_acc_history.npy\n",
      "    Log 4 - Training loss history log:       train_loss_history.npy\n",
      "    Log 5 - Training curve:                  train_loss_history.npy\n",
      "    Log 6 - Validation curve:                train_loss_history.npy\n",
      "\n"
     ]
    },
    {
     "data": {
      "text/plain": [
       "<Figure size 432x288 with 0 Axes>"
      ]
     },
     "metadata": {},
     "output_type": "display_data"
    }
   ],
   "source": [
    "#Start Training\n",
    "gtf.Train();\n",
    "\n",
    "#Read the training summary generated once you run the cell and training is completed"
   ]
  },
  {
   "cell_type": "code",
   "execution_count": null,
   "metadata": {},
   "outputs": [],
   "source": []
  },
  {
   "cell_type": "code",
   "execution_count": null,
   "metadata": {},
   "outputs": [],
   "source": [
    "\n"
   ]
  },
  {
   "cell_type": "markdown",
   "metadata": {},
   "source": [
    "## Validating the trained classifier"
   ]
  },
  {
   "cell_type": "code",
   "execution_count": null,
   "metadata": {},
   "outputs": [],
   "source": []
  },
  {
   "cell_type": "markdown",
   "metadata": {},
   "source": [
    "## Load the experiment in validation mode\n",
    "    - Set flag eval_infer as True"
   ]
  },
  {
   "cell_type": "code",
   "execution_count": 13,
   "metadata": {},
   "outputs": [
    {
     "name": "stdout",
     "output_type": "stream",
     "text": [
      "Keras Version: 2.2.5\n",
      "Tensorflow Version: 1.12.0\n",
      "\n",
      "Model Details\n",
      "    Loading model - workspace/Project/Use_Random_Initialization/output/models/final.h5\n",
      "    Model loaded!\n",
      "\n",
      "Experiment Details\n",
      "    Project: Project\n",
      "    Experiment: Use_Random_Initialization\n",
      "    Dir: /home/abhi/Desktop/Work/tess_tool/gui/v0.3/finetune_models/Organization/development/v5.3_roadmaps/2_transfer_learning_roadmap/7_effect_of_pretrained_weights/workspace/Project/Use_Random_Initialization/\n",
      "\n"
     ]
    }
   ],
   "source": [
    "gtf = prototype(verbose=1);\n",
    "gtf.Prototype(\"Project\", \"Use_Random_Initialization\", eval_infer=True);"
   ]
  },
  {
   "cell_type": "code",
   "execution_count": null,
   "metadata": {},
   "outputs": [],
   "source": []
  },
  {
   "cell_type": "code",
   "execution_count": null,
   "metadata": {},
   "outputs": [],
   "source": []
  },
  {
   "cell_type": "markdown",
   "metadata": {},
   "source": [
    "## Load the validation dataset"
   ]
  },
  {
   "cell_type": "code",
   "execution_count": 14,
   "metadata": {},
   "outputs": [
    {
     "name": "stdout",
     "output_type": "stream",
     "text": [
      "Dataset Details\n",
      "    Test path:     100-bird-species/valid\n",
      "    CSV test path:  None\n",
      "\n",
      "Dataset Params\n",
      "    Input Size:  224\n",
      "    Processors:   4\n",
      "\n",
      "Found 750 images belonging to 150 classes.\n",
      "Pre-Composed Test Transforms\n",
      "[{'MeanSubtraction': {'mean': [0.485, 0.456, 0.406]}}]\n",
      "\n",
      "Dataset Numbers\n",
      "    Num test images: 750\n",
      "    Num classes:      150\n",
      "\n"
     ]
    }
   ],
   "source": [
    "gtf.Dataset_Params(dataset_path=\"100-bird-species/valid\");\n",
    "gtf.Dataset();"
   ]
  },
  {
   "cell_type": "code",
   "execution_count": null,
   "metadata": {},
   "outputs": [],
   "source": []
  },
  {
   "cell_type": "code",
   "execution_count": null,
   "metadata": {},
   "outputs": [],
   "source": []
  },
  {
   "cell_type": "markdown",
   "metadata": {},
   "source": [
    "## Run validation"
   ]
  },
  {
   "cell_type": "code",
   "execution_count": 15,
   "metadata": {},
   "outputs": [
    {
     "name": "stdout",
     "output_type": "stream",
     "text": [
      "Testing\n",
      "750/750 [==============================] - 15s 20ms/step\n",
      "\n",
      "    Result\n",
      "        class based accuracies\n",
      "            0. ALBATROSS - 0.0 %\n",
      "            1. ALEXANDRINE PARAKEET - 0.0 %\n",
      "            2. AMERICAN AVOCET - 0.0 %\n",
      "            3. AMERICAN BITTERN - 0.0 %\n",
      "            4. AMERICAN COOT - 0.0 %\n",
      "            5. AMERICAN GOLDFINCH - 0.0 %\n",
      "            6. AMERICAN KESTREL - 0.0 %\n",
      "            7. AMERICAN REDSTART - 0.0 %\n",
      "            8. ANHINGA - 0.0 %\n",
      "            9. ANNAS HUMMINGBIRD - 0.0 %\n",
      "            10. BALD EAGLE - 0.0 %\n",
      "            11. BALTIMORE ORIOLE - 0.0 %\n",
      "            12. BANANAQUIT - 0.0 %\n",
      "            13. BAR-TAILED GODWIT - 0.0 %\n",
      "            14. BARN OWL - 0.0 %\n",
      "            15. BARN SWALLOW - 0.0 %\n",
      "            16. BAY-BREASTED WARBLER - 0.0 %\n",
      "            17. BELTED KINGFISHER - 0.0 %\n",
      "            18. BIRD OF PARADISE - 0.0 %\n",
      "            19. BLACK FRANCOLIN - 0.0 %\n",
      "            20. BLACK SKIMMER - 0.0 %\n",
      "            21. BLACK SWAN - 0.0 %\n",
      "            22. BLACK THROATED WARBLER - 0.0 %\n",
      "            23. BLACK-CAPPED CHICKADEE - 0.0 %\n",
      "            24. BLACK-NECKED GREBE - 0.0 %\n",
      "            25. BLACKBURNIAM WARBLER - 0.0 %\n",
      "            26. BLUE HERON - 0.0 %\n",
      "            27. BOBOLINK - 0.0 %\n",
      "            28. BROWN THRASHER - 0.0 %\n",
      "            29. CACTUS WREN - 0.0 %\n",
      "            30. CALIFORNIA CONDOR - 0.0 %\n",
      "            31. CALIFORNIA GULL - 0.0 %\n",
      "            32. CALIFORNIA QUAIL - 0.0 %\n",
      "            33. CAPE MAY WARBLER - 0.0 %\n",
      "            34. CASSOWARY - 0.0 %\n",
      "            35. CHARA DE COLLAR - 0.0 %\n",
      "            36. CHIPPING SPARROW - 0.0 %\n",
      "            37. CINNAMON TEAL - 0.0 %\n",
      "            38. COCK OF THE  ROCK - 0.0 %\n",
      "            39. COCKATOO - 0.0 %\n",
      "            40. COMMON GRACKLE - 0.0 %\n",
      "            41. COMMON HOUSE MARTIN - 0.0 %\n",
      "            42. COMMON LOON - 0.0 %\n",
      "            43. COMMON POORWILL - 0.0 %\n",
      "            44. COMMON STARLING - 0.0 %\n",
      "            45. COUCHS KINGBIRD - 0.0 %\n",
      "            46. CRESTED AUKLET - 0.0 %\n",
      "            47. CRESTED CARACARA - 0.0 %\n",
      "            48. CROW - 0.0 %\n",
      "            49. CROWNED PIGEON - 0.0 %\n",
      "            50. CURL CRESTED ARACURI - 0.0 %\n",
      "            51. DARK EYED JUNCO - 0.0 %\n",
      "            52. DOWNY WOODPECKER - 0.0 %\n",
      "            53. EASTERN BLUEBIRD - 0.0 %\n",
      "            54. EASTERN ROSELLA - 0.0 %\n",
      "            55. EASTERN TOWEE - 0.0 %\n",
      "            56. ELEGANT TROGON - 0.0 %\n",
      "            57. ELLIOTS  PHEASANT - 0.0 %\n",
      "            58. EMPEROR PENGUIN - 0.0 %\n",
      "            59. EMU - 0.0 %\n",
      "            60. EVENING GROSBEAK - 0.0 %\n",
      "            61. FLAME TANAGER - 0.0 %\n",
      "            62. FLAMINGO - 0.0 %\n",
      "            63. FRIGATE - 0.0 %\n",
      "            64. GLOSSY IBIS - 0.0 %\n",
      "            65. GOLD WING WARBLER - 0.0 %\n",
      "            66. GOLDEN CHLOROPHONIA - 0.0 %\n",
      "            67. GOLDEN EAGLE - 0.0 %\n",
      "            68. GOLDEN PHEASANT - 0.0 %\n",
      "            69. GOULDIAN FINCH - 0.0 %\n",
      "            70. GRAY CATBIRD - 0.0 %\n",
      "            71. GRAY PARTRIDGE - 0.0 %\n",
      "            72. GREEN JAY - 0.0 %\n",
      "            73. GREY PLOVER - 0.0 %\n",
      "            74. GUINEAFOWL - 0.0 %\n",
      "            75. HAWAIIAN GOOSE - 0.0 %\n",
      "            76. HOODED MERGANSER - 0.0 %\n",
      "            77. HOOPOES - 0.0 %\n",
      "            78. HORNBILL - 0.0 %\n",
      "            79. HOUSE FINCH - 100.0 %\n",
      "            80. HOUSE SPARROW - 0.0 %\n",
      "            81. HYACINTH MACAW - 0.0 %\n",
      "            82. INDIGO BUNTING - 0.0 %\n",
      "            83. JABIRU - 0.0 %\n",
      "            84. LARK BUNTING - 0.0 %\n",
      "            85. LILAC ROLLER - 0.0 %\n",
      "            86. LONG-EARED OWL - 0.0 %\n",
      "            87. MALLARD DUCK - 0.0 %\n",
      "            88. MANDRIN DUCK - 0.0 %\n",
      "            89. MARABOU STORK - 0.0 %\n",
      "            90. MIKADO  PHEASANT - 0.0 %\n",
      "            91. MOURNING DOVE - 0.0 %\n",
      "            92. MYNA - 0.0 %\n",
      "            93. NICOBAR PIGEON - 0.0 %\n",
      "            94. NORTHERN CARDINAL - 0.0 %\n",
      "            95. NORTHERN FLICKER - 0.0 %\n",
      "            96. NORTHERN GOSHAWK - 0.0 %\n",
      "            97. NORTHERN JACANA - 0.0 %\n",
      "            98. NORTHERN MOCKINGBIRD - 0.0 %\n",
      "            99. NORTHERN RED BISHOP - 0.0 %\n",
      "            100. OSPREY - 0.0 %\n",
      "            101. OSTRICH - 0.0 %\n",
      "            102. PAINTED BUNTIG - 0.0 %\n",
      "            103. PARADISE TANAGER - 40.0 %\n",
      "            104. PARUS MAJOR - 0.0 %\n",
      "            105. PEACOCK - 0.0 %\n",
      "            106. PELICAN - 0.0 %\n",
      "            107. PEREGRINE FALCON - 0.0 %\n",
      "            108. PINK ROBIN - 0.0 %\n",
      "            109. PUFFIN - 0.0 %\n",
      "            110. PURPLE FINCH - 0.0 %\n",
      "            111. PURPLE GALLINULE - 0.0 %\n",
      "            112. PURPLE MARTIN - 0.0 %\n",
      "            113. PURPLE SWAMPHEN - 0.0 %\n",
      "            114. QUETZAL - 0.0 %\n",
      "            115. RAINBOW LORIKEET - 0.0 %\n",
      "            116. RED FACED CORMORANT - 0.0 %\n",
      "            117. RED HEADED WOODPECKER - 0.0 %\n",
      "            118. RED THROATED BEE EATER - 0.0 %\n",
      "            119. RED WINGED BLACKBIRD - 0.0 %\n",
      "            120. RED WISKERED BULBUL - 0.0 %\n",
      "            121. RING-NECKED PHEASANT - 0.0 %\n",
      "            122. ROADRUNNER - 0.0 %\n",
      "            123. ROBIN - 0.0 %\n",
      "            124. ROSY FACED LOVEBIRD - 0.0 %\n",
      "            125. ROUGH LEG BUZZARD - 0.0 %\n",
      "            126. RUBY THROATED HUMMINGBIRD - 0.0 %\n",
      "            127. SAND MARTIN - 0.0 %\n",
      "            128. SCARLET IBIS - 0.0 %\n",
      "            129. SCARLET MACAW - 0.0 %\n",
      "            130. SNOWY EGRET - 0.0 %\n",
      "            131. SPLENDID WREN - 0.0 %\n",
      "            132. SPOONBILL - 0.0 %\n",
      "            133. STORK BILLED KINGFISHER - 0.0 %\n",
      "            134. STRAWBERRY FINCH - 0.0 %\n",
      "            135. TEAL DUCK - 0.0 %\n",
      "            136. TIT MOUSE - 0.0 %\n",
      "            137. TOUCHAN - 40.0 %\n",
      "            138. TRUMPTER SWAN - 0.0 %\n",
      "            139. TURKEY VULTURE - 0.0 %\n",
      "            140. TURQUOISE MOTMOT - 0.0 %\n",
      "            141. VARIED THRUSH - 0.0 %\n",
      "            142. VENEZUELIAN TROUPIAL - 0.0 %\n",
      "            143. VERMILION FLYCATHER - 0.0 %\n",
      "            144. VIOLET GREEN SWALLOW - 0.0 %\n",
      "            145. WESTERN MEADOWLARK - 0.0 %\n",
      "            146. WILD TURKEY - 0.0 %\n",
      "            147. WILSONS BIRD OF PARADISE - 0.0 %\n",
      "            148. WOOD DUCK - 40.0 %\n",
      "            149. YELLOW HEADED BLACKBIRD - 0.0 %\n",
      "        total images:            750\n",
      "        num correct predictions: 11\n",
      "        Average accuracy (%):    1.4666666666666666\n",
      "\n"
     ]
    }
   ],
   "source": [
    "accuracy, class_based_accuracy = gtf.Evaluate();"
   ]
  },
  {
   "cell_type": "code",
   "execution_count": null,
   "metadata": {},
   "outputs": [],
   "source": []
  },
  {
   "cell_type": "markdown",
   "metadata": {},
   "source": [
    "### Accuracy achieved - 1.46\n",
    "(You may get a different result)"
   ]
  },
  {
   "cell_type": "code",
   "execution_count": null,
   "metadata": {},
   "outputs": [],
   "source": []
  },
  {
   "cell_type": "code",
   "execution_count": null,
   "metadata": {},
   "outputs": [],
   "source": []
  },
  {
   "cell_type": "markdown",
   "metadata": {},
   "source": [
    "<a id='3'></a>\n",
    "# Compare both the experiment"
   ]
  },
  {
   "cell_type": "code",
   "execution_count": null,
   "metadata": {},
   "outputs": [],
   "source": []
  },
  {
   "cell_type": "code",
   "execution_count": 19,
   "metadata": {},
   "outputs": [],
   "source": [
    "# Invoke the comparison class\n",
    "from compare_prototype import compare"
   ]
  },
  {
   "cell_type": "code",
   "execution_count": null,
   "metadata": {},
   "outputs": [],
   "source": []
  },
  {
   "cell_type": "markdown",
   "metadata": {},
   "source": [
    "### Creating and managing comparison experiments\n",
    "        - Provide project name"
   ]
  },
  {
   "cell_type": "code",
   "execution_count": 20,
   "metadata": {},
   "outputs": [
    {
     "name": "stdout",
     "output_type": "stream",
     "text": [
      "Comparison: - Compare-effect-of-using-pretrained-model\n"
     ]
    }
   ],
   "source": [
    "# Create a project \n",
    "gtf = compare(verbose=1);\n",
    "gtf.Comparison(\"Compare-effect-of-using-pretrained-model\");"
   ]
  },
  {
   "cell_type": "code",
   "execution_count": null,
   "metadata": {},
   "outputs": [],
   "source": []
  },
  {
   "cell_type": "markdown",
   "metadata": {},
   "source": [
    "### This creates files and directories as per the following structure\n",
    "    \n",
    "    workspace\n",
    "        |\n",
    "        |--------comparison\n",
    "                        |\n",
    "                        |\n",
    "                        |-----Compare-effect-of-using-pretrained-model\n",
    "                                    |\n",
    "                                    |------stats_best_val_acc.png\n",
    "                                    |------stats_max_gpu_usage.png\n",
    "                                    |------stats_training_time.png\n",
    "                                    |------train_accuracy.png\n",
    "                                    |------train_loss.png\n",
    "                                    |------val_accuracy.png\n",
    "                                    |------val_loss.png\n",
    "                                    \n",
    "                        |\n",
    "                        |-----comparison.csv (Contains necessary details of all experiments)"
   ]
  },
  {
   "cell_type": "code",
   "execution_count": null,
   "metadata": {},
   "outputs": [],
   "source": []
  },
  {
   "cell_type": "markdown",
   "metadata": {},
   "source": [
    "### Add the experiments\n",
    "        - First argument - Project name\n",
    "        - Second argument - Experiment name"
   ]
  },
  {
   "cell_type": "code",
   "execution_count": 21,
   "metadata": {},
   "outputs": [
    {
     "name": "stdout",
     "output_type": "stream",
     "text": [
      "Project - Project, Experiment - Use_Pretrained added\n",
      "Project - Project, Experiment - Use_Random_Initialization added\n"
     ]
    }
   ],
   "source": [
    "gtf.Add_Experiment(\"Project\", \"Use_Pretrained\");\n",
    "gtf.Add_Experiment(\"Project\", \"Use_Random_Initialization\");"
   ]
  },
  {
   "cell_type": "code",
   "execution_count": null,
   "metadata": {},
   "outputs": [],
   "source": []
  },
  {
   "cell_type": "markdown",
   "metadata": {},
   "source": [
    "### Run Analysis"
   ]
  },
  {
   "cell_type": "code",
   "execution_count": 22,
   "metadata": {},
   "outputs": [
    {
     "name": "stdout",
     "output_type": "stream",
     "text": [
      "Generating statistics...\n",
      "Generated\n",
      "\n"
     ]
    },
    {
     "data": {
      "text/plain": [
       "<Figure size 1440x720 with 0 Axes>"
      ]
     },
     "metadata": {},
     "output_type": "display_data"
    },
    {
     "data": {
      "text/plain": [
       "<Figure size 1440x720 with 0 Axes>"
      ]
     },
     "metadata": {},
     "output_type": "display_data"
    },
    {
     "data": {
      "text/plain": [
       "<Figure size 1440x720 with 0 Axes>"
      ]
     },
     "metadata": {},
     "output_type": "display_data"
    },
    {
     "data": {
      "text/plain": [
       "<Figure size 1440x720 with 0 Axes>"
      ]
     },
     "metadata": {},
     "output_type": "display_data"
    }
   ],
   "source": [
    "gtf.Generate_Statistics();"
   ]
  },
  {
   "cell_type": "code",
   "execution_count": null,
   "metadata": {},
   "outputs": [],
   "source": []
  },
  {
   "cell_type": "code",
   "execution_count": null,
   "metadata": {},
   "outputs": [],
   "source": []
  },
  {
   "cell_type": "markdown",
   "metadata": {},
   "source": [
    "## Visualize and study comparison metrics"
   ]
  },
  {
   "cell_type": "code",
   "execution_count": null,
   "metadata": {},
   "outputs": [],
   "source": []
  },
  {
   "cell_type": "markdown",
   "metadata": {},
   "source": [
    "### Training Accuracy Curves"
   ]
  },
  {
   "cell_type": "code",
   "execution_count": 23,
   "metadata": {},
   "outputs": [
    {
     "data": {
      "image/png": "[encoded data removed]",
      "text/plain": [
       "<IPython.core.display.Image object>"
      ]
     },
     "execution_count": 23,
     "metadata": {},
     "output_type": "execute_result"
    }
   ],
   "source": [
    "from IPython.display import Image\n",
    "Image(filename=\"workspace/comparison/Compare-effect-of-using-pretrained-model/train_accuracy.png\") "
   ]
  },
  {
   "cell_type": "code",
   "execution_count": null,
   "metadata": {},
   "outputs": [],
   "source": []
  },
  {
   "cell_type": "code",
   "execution_count": null,
   "metadata": {},
   "outputs": [],
   "source": []
  },
  {
   "cell_type": "markdown",
   "metadata": {},
   "source": [
    "### Training Loss Curves"
   ]
  },
  {
   "cell_type": "code",
   "execution_count": 24,
   "metadata": {},
   "outputs": [
    {
     "data": {
      "image/png": "[encoded data removed]",
      "text/plain": [
       "<IPython.core.display.Image object>"
      ]
     },
     "execution_count": 24,
     "metadata": {},
     "output_type": "execute_result"
    }
   ],
   "source": [
    "from IPython.display import Image\n",
    "Image(filename=\"workspace/comparison/Compare-effect-of-using-pretrained-model/train_loss.png\") "
   ]
  },
  {
   "cell_type": "code",
   "execution_count": null,
   "metadata": {},
   "outputs": [],
   "source": []
  },
  {
   "cell_type": "code",
   "execution_count": null,
   "metadata": {},
   "outputs": [],
   "source": []
  },
  {
   "cell_type": "markdown",
   "metadata": {},
   "source": [
    "### Validation Accuracy Curves"
   ]
  },
  {
   "cell_type": "code",
   "execution_count": 25,
   "metadata": {},
   "outputs": [
    {
     "data": {
      "image/png": "[encoded data removed]",
      "text/plain": [
       "<IPython.core.display.Image object>"
      ]
     },
     "execution_count": 25,
     "metadata": {},
     "output_type": "execute_result"
    }
   ],
   "source": [
    "from IPython.display import Image\n",
    "Image(filename=\"workspace/comparison/Compare-effect-of-using-pretrained-model/val_accuracy.png\") "
   ]
  },
  {
   "cell_type": "code",
   "execution_count": null,
   "metadata": {},
   "outputs": [],
   "source": []
  },
  {
   "cell_type": "code",
   "execution_count": null,
   "metadata": {},
   "outputs": [],
   "source": []
  },
  {
   "cell_type": "code",
   "execution_count": null,
   "metadata": {},
   "outputs": [],
   "source": []
  },
  {
   "cell_type": "markdown",
   "metadata": {},
   "source": [
    "### Validation loss curves"
   ]
  },
  {
   "cell_type": "code",
   "execution_count": 26,
   "metadata": {},
   "outputs": [
    {
     "data": {
      "image/png": "[encoded data removed]",
      "text/plain": [
       "<IPython.core.display.Image object>"
      ]
     },
     "execution_count": 26,
     "metadata": {},
     "output_type": "execute_result"
    }
   ],
   "source": [
    "from IPython.display import Image\n",
    "Image(filename=\"workspace/comparison/Compare-effect-of-using-pretrained-model/val_loss.png\") "
   ]
  },
  {
   "cell_type": "code",
   "execution_count": null,
   "metadata": {},
   "outputs": [],
   "source": []
  },
  {
   "cell_type": "code",
   "execution_count": null,
   "metadata": {},
   "outputs": [],
   "source": []
  },
  {
   "cell_type": "code",
   "execution_count": null,
   "metadata": {},
   "outputs": [],
   "source": []
  },
  {
   "cell_type": "markdown",
   "metadata": {},
   "source": [
    "## Accuracies achieved on validation dataset\n",
    "\n",
    "### With pretrained weights - 94.53\n",
    "### Without pretrained weights - 1.46\n",
    "\n",
    "#### For this classifier, keeping the base network inistalized with pretrained weights seems to be a good option for lesser epochs. \n",
    "\n",
    "(You may get a different result)"
   ]
  },
  {
   "cell_type": "code",
   "execution_count": null,
   "metadata": {},
   "outputs": [],
   "source": []
  },
  {
   "cell_type": "code",
   "execution_count": null,
   "metadata": {},
   "outputs": [],
   "source": []
  },
  {
   "cell_type": "code",
   "execution_count": null,
   "metadata": {},
   "outputs": [],
   "source": []
  },
  {
   "cell_type": "code",
   "execution_count": null,
   "metadata": {},
   "outputs": [],
   "source": []
  },
  {
   "cell_type": "code",
   "execution_count": null,
   "metadata": {},
   "outputs": [],
   "source": []
  },
  {
   "cell_type": "code",
   "execution_count": null,
   "metadata": {},
   "outputs": [],
   "source": []
  },
  {
   "cell_type": "code",
   "execution_count": null,
   "metadata": {},
   "outputs": [],
   "source": []
  },
  {
   "cell_type": "code",
   "execution_count": null,
   "metadata": {},
   "outputs": [],
   "source": []
  },
  {
   "cell_type": "code",
   "execution_count": null,
   "metadata": {},
   "outputs": [],
   "source": []
  },
  {
   "cell_type": "code",
   "execution_count": null,
   "metadata": {},
   "outputs": [],
   "source": []
  },
  {
   "cell_type": "code",
   "execution_count": null,
   "metadata": {},
   "outputs": [],
   "source": []
  },
  {
   "cell_type": "code",
   "execution_count": null,
   "metadata": {},
   "outputs": [],
   "source": []
  },
  {
   "cell_type": "code",
   "execution_count": null,
   "metadata": {},
   "outputs": [],
   "source": []
  },
  {
   "cell_type": "code",
   "execution_count": null,
   "metadata": {},
   "outputs": [],
   "source": []
  },
  {
   "cell_type": "code",
   "execution_count": null,
   "metadata": {},
   "outputs": [],
   "source": []
  }
 ],
 "metadata": {
  "kernelspec": {
   "display_name": "Python 3",
   "language": "python",
   "name": "python3"
  },
  "language_info": {
   "codemirror_mode": {
    "name": "ipython",
    "version": 3
   },
   "file_extension": ".py",
   "mimetype": "text/x-python",
   "name": "python",
   "nbconvert_exporter": "python",
   "pygments_lexer": "ipython3",
   "version": "3.6.9"
  }
 },
 "nbformat": 4,
 "nbformat_minor": 2
}

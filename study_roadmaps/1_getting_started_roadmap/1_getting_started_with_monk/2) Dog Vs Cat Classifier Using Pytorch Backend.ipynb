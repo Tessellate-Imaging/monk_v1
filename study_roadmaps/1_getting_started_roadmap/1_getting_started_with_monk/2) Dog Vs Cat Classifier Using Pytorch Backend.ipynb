{
 "cells": [
  {
   "cell_type": "markdown",
   "metadata": {},
   "source": [
    "<a href=\"https://colab.research.google.com/drive/1DheW6A8_0FzyBt1cbejCTvpHck7w08Fp" target=\"_parent\"><img src=\"https://colab.research.google.com/assets/colab-badge.svg\" alt=\"Open In Colab\"/></a>"
   ]
  },
  {
   "cell_type": "markdown",
   "metadata": {
    "colab_type": "text",
    "id": "d86BFteg6SaZ"
   },
   "source": [
    "# Monk_v1 Classifier with Pytorch Backend"
   ]
  },
  {
   "cell_type": "markdown",
   "metadata": {
    "colab_type": "text",
    "id": "fdhCo5zv6YYI"
   },
   "source": [
    "## Install Monk and dependencies\n",
    "\n",
    "- Clone [Monk Library](https://github.com/Tessellate-Imaging/monk_v1.git)\n",
    "- Install libraries like pylg and GPUtil \n",
    "- Remeber to set Hardware accelerator of Colab notebook to GPU, otherwise the code may behave unexpectedly\n"
   ]
  },
  {
   "cell_type": "code",
   "execution_count": 46,
   "metadata": {
    "colab": {
     "base_uri": "https://localhost:8080/",
     "height": 69
    },
    "colab_type": "code",
    "id": "ON-ocE5juw4U",
    "outputId": "070c400a-315f-4fe7-87b3-0071cbc055b7"
   },
   "outputs": [
    {
     "name": "stdout",
     "output_type": "stream",
     "text": [
      "fatal: destination path 'monk_v1' already exists and is not an empty directory.\n",
      "Requirement already satisfied: pylg in /usr/local/lib/python3.6/dist-packages (1.3.3)\n",
      "Requirement already satisfied: GPUtil in /usr/local/lib/python3.6/dist-packages (1.4.0)\n"
     ]
    }
   ],
   "source": [
    "!git clone https://github.com/Tessellate-Imaging/monk_v1.git\n",
    "!pip3 install pylg\n",
    "!pip3 install GPUtil"
   ]
  },
  {
   "cell_type": "markdown",
   "metadata": {
    "colab_type": "text",
    "id": "eA0mGeGG7GSV"
   },
   "source": [
    "## Import Various Libraries"
   ]
  },
  {
   "cell_type": "code",
   "execution_count": 0,
   "metadata": {
    "colab": {},
    "colab_type": "code",
    "id": "i33hqwoau3_0"
   },
   "outputs": [],
   "source": [
    "import os\n",
    "import sys\n",
    "from IPython.display import Image\n",
    "\n",
    "sys.path.append(\"monk_v1/monk/\");"
   ]
  },
  {
   "cell_type": "markdown",
   "metadata": {
    "colab_type": "text",
    "id": "PS34qGlx7eT9"
   },
   "source": [
    "## Using Pytorch Backend for Classification of Cat and Dog"
   ]
  },
  {
   "cell_type": "code",
   "execution_count": 0,
   "metadata": {
    "colab": {},
    "colab_type": "code",
    "id": "UP2ifXiPvP7s"
   },
   "outputs": [],
   "source": [
    "from pytorch_prototype import prototype"
   ]
  },
  {
   "cell_type": "markdown",
   "metadata": {
    "colab_type": "text",
    "id": "uYWwBU6T7i5h"
   },
   "source": [
    "## Creating and managing experiments\n",
    "- Provide project name\n",
    "- Provide experiment name\n",
    "- For a specific data create a single project\n",
    "- Inside each project multiple experiments can be created\n",
    "- Every experiment can be have diferent hyper-parameters attached to it\n"
   ]
  },
  {
   "cell_type": "code",
   "execution_count": 49,
   "metadata": {
    "colab": {
     "base_uri": "https://localhost:8080/",
     "height": 139
    },
    "colab_type": "code",
    "id": "9vJiY1qRvWDE",
    "outputId": "93918323-36e0-4531-f746-1b1de5116bfc"
   },
   "outputs": [
    {
     "name": "stdout",
     "output_type": "stream",
     "text": [
      "Pytorch Version: 1.4.0\n",
      "\n",
      "Experiment Details\n",
      "    Project: sample-project-1\n",
      "    Experiment: sample-experiment-1\n",
      "    Dir: /content/workspace/sample-project-1/sample-experiment-1/\n",
      "\n"
     ]
    }
   ],
   "source": [
    "gtf = prototype(verbose=1);\n",
    "gtf.Prototype(\"sample-project-1\", \"sample-experiment-1\");"
   ]
  },
  {
   "cell_type": "markdown",
   "metadata": {
    "colab_type": "text",
    "id": "BE9jB3NS7yhc"
   },
   "source": [
    "## This creates files and directories as per the following structure\n",
    "    \n",
    "    \n",
    "    workspace\n",
    "        |\n",
    "        |--------sample-project-1 (Project name can be different)\n",
    "                        |\n",
    "                        |\n",
    "                        |-----sample-experiment-1 (Experiment name can be different)\n",
    "                                    |\n",
    "                                    |-----experiment-state.json\n",
    "                                    |\n",
    "                                    |-----output\n",
    "                                            |\n",
    "                                            |------logs (All training logs and graphs saved here)\n",
    "                                            |\n",
    "                                            |------models (all trained models saved here)\n",
    "                                    "
   ]
  },
  {
   "cell_type": "markdown",
   "metadata": {
    "colab_type": "text",
    "id": "n-_bcqvt8hXm"
   },
   "source": [
    "# Training a Cat Vs Dog image classifier\n"
   ]
  },
  {
   "cell_type": "markdown",
   "metadata": {
    "colab_type": "text",
    "id": "yfyMX65Q8tkt"
   },
   "source": [
    "## Quick mode training\n",
    "\n",
    "- Using Default Function\n",
    "    - dataset_path\n",
    "    - model_name\n",
    "    - num_epochs\n",
    "        \n",
    "        \n",
    "## Dataset folder structure\n",
    "\n",
    "    parent_directory\n",
    "        |\n",
    "        |\n",
    "        |------cat\n",
    "                |\n",
    "                |------img1.jpg\n",
    "                |------img2.jpg\n",
    "                |------.... (and so on)\n",
    "        |------dog\n",
    "                |\n",
    "                |------img1.jpg\n",
    "                |------img2.jpg\n",
    "                |------.... (and so on)     "
   ]
  },
  {
   "cell_type": "markdown",
   "metadata": {
    "colab_type": "text",
    "id": "mHRtR3HnLqnn"
   },
   "source": [
    "Models avaialable along with pretrained weights for training are:\n",
    "\n",
    "- alexnet\n",
    "- vgg11\n",
    "- vgg11_bn\n",
    "- vgg13\n",
    "- vgg13_bn\n",
    "- vgg16\n",
    "- vgg16_bn\n",
    "- vgg19\n",
    "- vgg19_bn\n",
    "- densenet121\n",
    "- densenet161\n",
    "- densenet169\n",
    "- densenet201\n",
    "- googlenet\n",
    "- inception_v3\n",
    "- resnet18\n",
    "- resnet34\n",
    "- resnet50\n",
    "- resnet101\n",
    "- resnet152\n",
    "- resnext50_32x4d\n",
    "- resnext101_32x8d\n",
    "- shufflenet_v2_x0_5\n",
    "- shufflenet_v2_x1_0\n",
    "- shufflenet_v2_x1_5\n",
    "- shufflenet_v2_x2_0\n",
    "- wide_resnet101_2\n",
    "- wide_resnet50_2\n",
    "- mnasnet0_5\n",
    "- mnasnet0_75\n",
    "- mnasnet1_0\n",
    "- mnasnet1_3\n",
    "- mobilenet_v2\n",
    "- squeezenet1_0\n",
    "- squeezenet1_1"
   ]
  },
  {
   "cell_type": "code",
   "execution_count": 56,
   "metadata": {
    "colab": {
     "base_uri": "https://localhost:8080/",
     "height": 1000
    },
    "colab_type": "code",
    "id": "Rgl0a9Qvytmf",
    "outputId": "bb34236b-bfc0-46ad-b504-e0a438e2ce2e"
   },
   "outputs": [
    {
     "name": "stdout",
     "output_type": "stream",
     "text": [
      "Dataset Details\n",
      "    Train path:     monk_v1/monk/system_check_tests/datasets/dataset_cats_dogs_train\n",
      "    Val path:       None\n",
      "    CSV train path: None\n",
      "    CSV val path:  None\n",
      "\n",
      "Dataset Params\n",
      "    Input Size:  224\n",
      "    Batch Size:  4\n",
      "    Data Shuffle: True\n",
      "    Processors:   2\n",
      "    Train-val split:   0.7\n",
      "\n",
      "Pre-Composed Train Transforms\n",
      "[{'RandomHorizontalFlip': {'p': 0.8}}, {'Normalize': {'mean': [0.485, 0.456, 0.406], 'std': [0.229, 0.224, 0.225]}}, {'RandomHorizontalFlip': {'p': 0.8}}, {'Normalize': {'mean': [0.485, 0.456, 0.406], 'std': [0.229, 0.224, 0.225]}}, {'RandomHorizontalFlip': {'p': 0.8}}, {'Normalize': {'mean': [0.485, 0.456, 0.406], 'std': [0.229, 0.224, 0.225]}}, {'RandomHorizontalFlip': {'p': 0.8}}, {'Normalize': {'mean': [0.485, 0.456, 0.406], 'std': [0.229, 0.224, 0.225]}}, {'RandomHorizontalFlip': {'p': 0.8}}, {'Normalize': {'mean': [0.485, 0.456, 0.406], 'std': [0.229, 0.224, 0.225]}}, {'RandomHorizontalFlip': {'p': 0.8}}, {'Normalize': {'mean': [0.485, 0.456, 0.406], 'std': [0.229, 0.224, 0.225]}}, {'RandomHorizontalFlip': {'p': 0.8}}, {'Normalize': {'mean': [0.485, 0.456, 0.406], 'std': [0.229, 0.224, 0.225]}}]\n",
      "\n",
      "Pre-Composed Val Transforms\n",
      "[{'RandomHorizontalFlip': {'p': 0.8}}, {'Normalize': {'mean': [0.485, 0.456, 0.406], 'std': [0.229, 0.224, 0.225]}}, {'RandomHorizontalFlip': {'p': 0.8}}, {'Normalize': {'mean': [0.485, 0.456, 0.406], 'std': [0.229, 0.224, 0.225]}}, {'RandomHorizontalFlip': {'p': 0.8}}, {'Normalize': {'mean': [0.485, 0.456, 0.406], 'std': [0.229, 0.224, 0.225]}}, {'RandomHorizontalFlip': {'p': 0.8}}, {'Normalize': {'mean': [0.485, 0.456, 0.406], 'std': [0.229, 0.224, 0.225]}}, {'RandomHorizontalFlip': {'p': 0.8}}, {'Normalize': {'mean': [0.485, 0.456, 0.406], 'std': [0.229, 0.224, 0.225]}}, {'RandomHorizontalFlip': {'p': 0.8}}, {'Normalize': {'mean': [0.485, 0.456, 0.406], 'std': [0.229, 0.224, 0.225]}}, {'RandomHorizontalFlip': {'p': 0.8}}, {'Normalize': {'mean': [0.485, 0.456, 0.406], 'std': [0.229, 0.224, 0.225]}}]\n",
      "\n",
      "Dataset Numbers\n",
      "    Num train images: 140\n",
      "    Num val images:   60\n",
      "    Num classes:      2\n",
      "\n",
      "Model Params\n",
      "    Model name:           resnet18\n",
      "    Use Gpu:              True\n",
      "    Use pretrained:       True\n",
      "    Freeze base network:  True\n",
      "\n",
      "Model Details\n",
      "    Loading pretrained model\n",
      "    Model Loaded on device\n",
      "        Model name:                           resnet18\n",
      "        Num layers in model:  41\n",
      "        Num trainable layers: 1\n",
      "\n",
      "Optimizer\n",
      "    Name:          sgd\n",
      "    Learning rate: 0.01\n",
      "    Params:        {'lr': 0.01, 'momentum': 0, 'weight_decay': 0, 'momentum_dampening_rate': 0, 'clipnorm': 0.0, 'clipvalue': 0.0}\n",
      "\n",
      "\n",
      "\n",
      "Learning rate scheduler\n",
      "    Name:   reduceonplateaulr\n",
      "    Params: {'mode': 'min', 'factor': 0.1, 'patience': 1, 'verbose': True, 'threshold': 0.0001, 'threshold_mode': 'rel', 'cooldown': 0, 'min_lr': 0, 'epsilon': 1e-08}\n",
      "\n",
      "Loss\n",
      "    Name:          softmaxcrossentropy\n",
      "    Params:        {'weight': None, 'batch_axis': 0, 'axis_to_sum_over': -1, 'label_as_categories': True, 'label_smoothing': False}\n",
      "\n",
      "Training params\n",
      "    Num Epochs: 5\n",
      "\n",
      "Display params\n",
      "    Display progress:          True\n",
      "    Display progress realtime: True\n",
      "    Save Training logs:        True\n",
      "    Save Intermediate models:  True\n",
      "    Intermediate model prefix: intermediate_model_\n",
      "\n"
     ]
    }
   ],
   "source": [
    "gtf.Default(dataset_path=\"monk_v1/monk/system_check_tests/datasets/dataset_cats_dogs_train\", \n",
    "            model_name=\"resnet18\", \n",
    "            num_epochs=5);"
   ]
  },
  {
   "cell_type": "markdown",
   "metadata": {
    "colab_type": "text",
    "id": "dLs6mmMJ9BMq"
   },
   "source": [
    "# Start Training\n",
    "- Read the training summary generated once you run the cell and training is completed\n"
   ]
  },
  {
   "cell_type": "code",
   "execution_count": 22,
   "metadata": {
    "colab": {
     "base_uri": "https://localhost:8080/",
     "height": 1000
    },
    "colab_type": "code",
    "id": "tCO_7-yMy7W4",
    "outputId": "31e568c2-3387-4917-a06b-2247cac014ee"
   },
   "outputs": [
    {
     "name": "stderr",
     "output_type": "stream",
     "text": [
      "\n",
      "  0%|          | 0/35 [00:00<?, ?it/s]\u001b[A"
     ]
    },
    {
     "name": "stdout",
     "output_type": "stream",
     "text": [
      "Training Start\n",
      "    Epoch 1/5\n",
      "    ----------\n"
     ]
    },
    {
     "name": "stderr",
     "output_type": "stream",
     "text": [
      "\n",
      "  3%|▎         | 1/35 [00:00<00:03,  8.86it/s]\u001b[A\n",
      " 17%|█▋        | 6/35 [00:00<00:02, 11.76it/s]\u001b[A\n",
      " 34%|███▍      | 12/35 [00:00<00:01, 15.37it/s]\u001b[A\n",
      " 51%|█████▏    | 18/35 [00:00<00:00, 19.49it/s]\u001b[A\n",
      " 71%|███████▏  | 25/35 [00:00<00:00, 24.07it/s]\u001b[A\n",
      " 89%|████████▊ | 31/35 [00:00<00:00, 29.12it/s]\u001b[A\n",
      "\n",
      "  0%|          | 0/15 [00:00<?, ?it/s]\u001b[A\u001b[A\n",
      "\n",
      "100%|██████████| 35/35 [00:00<00:00, 41.71it/s]\n",
      "\n",
      "  7%|▋         | 1/15 [00:00<00:01,  8.97it/s]\u001b[A\n",
      " 47%|████▋     | 7/15 [00:00<00:00, 11.87it/s]\u001b[A\n",
      " 87%|████████▋ | 13/15 [00:00<00:00, 15.39it/s]\u001b[A\n",
      "\n",
      "  0%|          | 0/35 [00:00<?, ?it/s]\u001b[A\u001b[A\n",
      "\n",
      "100%|██████████| 15/15 [00:00<00:00, 16.14it/s]"
     ]
    },
    {
     "name": "stdout",
     "output_type": "stream",
     "text": [
      "\n",
      "\n",
      "    curr_lr - 0.01\n",
      "    [Epoch 1] Train-acc: 0.700, Train-loss: 0.623 | Val-acc: 0.916667, Val-loss: 0.256, | time: 1.7 sec\n",
      "\n",
      "    Epoch 2/5\n",
      "    ----------\n"
     ]
    },
    {
     "name": "stderr",
     "output_type": "stream",
     "text": [
      "\n",
      "\n",
      "  3%|▎         | 1/35 [00:00<00:04,  8.24it/s]\u001b[A\n",
      " 20%|██        | 7/35 [00:00<00:02, 11.03it/s]\u001b[A\n",
      " 34%|███▍      | 12/35 [00:00<00:01, 14.06it/s]\u001b[A\n",
      " 46%|████▌     | 16/35 [00:00<00:01, 17.45it/s]\u001b[A\n",
      " 63%|██████▎   | 22/35 [00:00<00:00, 22.10it/s]\u001b[A\n",
      " 80%|████████  | 28/35 [00:00<00:00, 26.52it/s]\u001b[A\n",
      " 94%|█████████▍| 33/35 [00:00<00:00, 30.67it/s]\u001b[A\n",
      "\n",
      "  0%|          | 0/15 [00:00<?, ?it/s]\u001b[A\u001b[A\n",
      "\n",
      "100%|██████████| 35/35 [00:00<00:00, 38.52it/s]\n",
      "\n",
      "  7%|▋         | 1/15 [00:00<00:01,  8.27it/s]\u001b[A\n",
      " 47%|████▋     | 7/15 [00:00<00:00, 11.03it/s]\u001b[A\n",
      " 87%|████████▋ | 13/15 [00:00<00:00, 14.45it/s]\u001b[A\n",
      "\n",
      "  0%|          | 0/35 [00:00<?, ?it/s]\u001b[A\u001b[A\n",
      "\n",
      "100%|██████████| 15/15 [00:00<00:00, 17.93it/s]"
     ]
    },
    {
     "name": "stdout",
     "output_type": "stream",
     "text": [
      "\n",
      "\n",
      "    curr_lr - 0.01\n",
      "    [Epoch 2] Train-acc: 0.843, Train-loss: 0.443 | Val-acc: 0.883333, Val-loss: 0.305, | time: 1.7 sec\n",
      "\n",
      "    Epoch 3/5\n",
      "    ----------\n"
     ]
    },
    {
     "name": "stderr",
     "output_type": "stream",
     "text": [
      "\n",
      "\n",
      "  3%|▎         | 1/35 [00:00<00:04,  8.17it/s]\u001b[A\n",
      " 20%|██        | 7/35 [00:00<00:02, 10.96it/s]\u001b[A\n",
      " 34%|███▍      | 12/35 [00:00<00:01, 14.28it/s]\u001b[A\n",
      " 51%|█████▏    | 18/35 [00:00<00:00, 18.40it/s]\u001b[A\n",
      " 66%|██████▌   | 23/35 [00:00<00:00, 22.39it/s]\u001b[A\n",
      " 83%|████████▎ | 29/35 [00:00<00:00, 27.18it/s]\u001b[A\n",
      " 97%|█████████▋| 34/35 [00:00<00:00, 31.23it/s]\u001b[A\n",
      "\n",
      "  0%|          | 0/15 [00:00<?, ?it/s]\u001b[A\u001b[A\n",
      "\n",
      " 13%|█▎        | 2/15 [00:00<00:00, 17.44it/s]\u001b[A\u001b[A\n",
      "\n",
      " 47%|████▋     | 7/15 [00:00<00:00, 21.54it/s]\u001b[A\u001b[A\n",
      "\n",
      " 87%|████████▋ | 13/15 [00:00<00:00, 26.01it/s]\u001b[A\u001b[A\n",
      "\n",
      "\n",
      "  0%|          | 0/35 [00:00<?, ?it/s]\u001b[A\u001b[A\u001b[A\n",
      "\n",
      "\n",
      "100%|██████████| 15/15 [00:00<00:00, 17.84it/s]"
     ]
    },
    {
     "name": "stdout",
     "output_type": "stream",
     "text": [
      "Epoch     3: reducing learning rate of group 0 to 1.0000e-03.\n",
      "\n",
      "\n",
      "    curr_lr - 0.001\n",
      "    [Epoch 3] Train-acc: 0.864, Train-loss: 0.330 | Val-acc: 0.883333, Val-loss: 0.350, | time: 1.7 sec\n",
      "\n",
      "    Epoch 4/5\n",
      "    ----------\n"
     ]
    },
    {
     "name": "stderr",
     "output_type": "stream",
     "text": [
      "\n",
      "\n",
      "\n",
      "  3%|▎         | 1/35 [00:00<00:03,  8.86it/s]\u001b[A\u001b[A\n",
      "\n",
      " 20%|██        | 7/35 [00:00<00:02, 11.78it/s]\u001b[A\u001b[A\n",
      "\n",
      " 37%|███▋      | 13/35 [00:00<00:01, 15.36it/s]\u001b[A\u001b[A\n",
      "\n",
      " 54%|█████▍    | 19/35 [00:00<00:00, 19.47it/s]\u001b[A\u001b[A\n",
      "\n",
      " 74%|███████▍  | 26/35 [00:00<00:00, 24.57it/s]\u001b[A\u001b[A\n",
      "\n",
      " 89%|████████▊ | 31/35 [00:00<00:00, 28.76it/s]\u001b[A\u001b[A\n",
      "\n",
      "\n",
      "  0%|          | 0/15 [00:00<?, ?it/s]\u001b[A\u001b[A\u001b[A\n",
      "\n",
      "\n",
      "100%|██████████| 35/35 [00:00<00:00, 41.99it/s]\n",
      "\n",
      "\n",
      "  7%|▋         | 1/15 [00:00<00:01,  9.45it/s]\u001b[A\u001b[A\n",
      "\n",
      " 47%|████▋     | 7/15 [00:00<00:00, 12.58it/s]\u001b[A\u001b[A\n",
      "\n",
      " 80%|████████  | 12/15 [00:00<00:00, 16.03it/s]\u001b[A\u001b[A\n",
      "\n",
      "\n",
      "  0%|          | 0/35 [00:00<?, ?it/s]\u001b[A\u001b[A\u001b[A\n",
      "\n",
      "\n",
      "100%|██████████| 15/15 [00:00<00:00, 15.30it/s]"
     ]
    },
    {
     "name": "stdout",
     "output_type": "stream",
     "text": [
      "\n",
      "\n",
      "    curr_lr - 0.001\n",
      "    [Epoch 4] Train-acc: 0.864, Train-loss: 0.290 | Val-acc: 0.933333, Val-loss: 0.251, | time: 1.8 sec\n",
      "\n",
      "    Epoch 5/5\n",
      "    ----------\n"
     ]
    },
    {
     "name": "stderr",
     "output_type": "stream",
     "text": [
      "\n",
      "\n",
      "\n",
      "  3%|▎         | 1/35 [00:00<00:04,  8.19it/s]\u001b[A\u001b[A\n",
      "\n",
      " 17%|█▋        | 6/35 [00:00<00:02, 10.88it/s]\u001b[A\u001b[A\n",
      "\n",
      " 31%|███▏      | 11/35 [00:00<00:01, 14.11it/s]\u001b[A\u001b[A\n",
      "\n",
      " 46%|████▌     | 16/35 [00:00<00:01, 17.75it/s]\u001b[A\u001b[A\n",
      "\n",
      " 60%|██████    | 21/35 [00:00<00:00, 21.90it/s]\u001b[A\u001b[A\n",
      "\n",
      " 77%|███████▋  | 27/35 [00:00<00:00, 26.96it/s]\u001b[A\u001b[A\n",
      "\n",
      " 94%|█████████▍| 33/35 [00:00<00:00, 31.97it/s]\u001b[A\u001b[A\n",
      "\n",
      "\n",
      "  0%|          | 0/15 [00:00<?, ?it/s]\u001b[A\u001b[A\u001b[A\n",
      "\n",
      "\n",
      "100%|██████████| 35/35 [00:00<00:00, 39.50it/s]\n",
      "\n",
      "\n",
      "  7%|▋         | 1/15 [00:00<00:01,  9.25it/s]\u001b[A\u001b[A\n",
      "\n",
      " 47%|████▋     | 7/15 [00:00<00:00, 12.38it/s]\u001b[A\u001b[A\n",
      "\n",
      " 80%|████████  | 12/15 [00:00<00:00, 15.85it/s]\u001b[A\u001b[A"
     ]
    },
    {
     "name": "stdout",
     "output_type": "stream",
     "text": [
      "\n",
      "\n",
      "    curr_lr - 0.001\n",
      "    [Epoch 5] Train-acc: 0.864, Train-loss: 0.360 | Val-acc: 0.933333, Val-loss: 0.243, | time: 1.7 sec\n",
      "\n",
      "    Training completed in: 0m 5s\n",
      "    Best val Acc:          0.933333\n",
      "\n",
      "Training End\n",
      "\n",
      "Training Outputs\n",
      "    Model Dir:   /content/workspace/sample-project-1/sample-experiment-1/output/models/\n",
      "    Log Dir:     /content/workspace/sample-project-1/sample-experiment-1/output/logs/\n",
      "    Final model: final\n",
      "    Best model:  best_model\n",
      "    Log 1 - Validation accuracy history log: val_acc_history.npy\n",
      "    Log 2 - Validation loss history log:     val_loss_history.npy\n",
      "    Log 3 - Training accuracy history log:   train_acc_history.npy\n",
      "    Log 4 - Training loss history log:       train_loss_history.npy\n",
      "    Log 5 - Training curve:                  train_loss_history.npy\n",
      "    Log 6 - Validation curve:                train_loss_history.npy\n",
      "\n"
     ]
    },
    {
     "name": "stderr",
     "output_type": "stream",
     "text": [
      "\r",
      "100%|██████████| 15/15 [00:01<00:00, 14.05it/s]\n"
     ]
    },
    {
     "data": {
      "text/plain": [
       "<Figure size 432x288 with 0 Axes>"
      ]
     },
     "metadata": {
      "tags": []
     },
     "output_type": "display_data"
    }
   ],
   "source": [
    "gtf.Train();"
   ]
  },
  {
   "cell_type": "markdown",
   "metadata": {
    "colab_type": "text",
    "id": "WDxyfGTHFwdy"
   },
   "source": [
    "## Plotting Training Accuracy\n"
   ]
  },
  {
   "cell_type": "code",
   "execution_count": 32,
   "metadata": {
    "colab": {
     "base_uri": "https://localhost:8080/",
     "height": 313
    },
    "colab_type": "code",
    "id": "00LCwRuTDbJK",
    "outputId": "9ef62423-9042-4203-b471-22b5123efd18"
   },
   "outputs": [
    {
     "data": {
      "text/plain": [
       "[<matplotlib.lines.Line2D at 0x7fcf84b87208>]"
      ]
     },
     "execution_count": 32,
     "metadata": {
      "tags": []
     },
     "output_type": "execute_result"
    },
    {
     "data": {
      "image/png": "iVBORw0KGgoAAAANSUhEUgAAAYgAAAEWCAYAAAB8LwAVAAAABHNCSVQICAgIfAhkiAAAAAlwSFlz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\n",
      "text/plain": [
       "<Figure size 432x288 with 1 Axes>"
      ]
     },
     "metadata": {
      "tags": []
     },
     "output_type": "display_data"
    }
   ],
   "source": [
    "import numpy as np\n",
    "import matplotlib.pyplot as plt\n",
    "\n",
    "train_acc_history = np.load('/content/workspace/sample-project-1/sample-experiment-1/output/logs/train_acc_history.npy')\n",
    "\n",
    "plt.figure(1)\n",
    "plt.xlabel('Epochs')\n",
    "plt.ylabel('Accuracy')\n",
    "plt.title('Training Accuracy')\n",
    "plt.plot(train_acc_history*100)"
   ]
  },
  {
   "cell_type": "markdown",
   "metadata": {
    "colab_type": "text",
    "id": "-2OIYymC9M2t"
   },
   "source": [
    "# Validating the trained classifier\n",
    "\n"
   ]
  },
  {
   "cell_type": "markdown",
   "metadata": {
    "colab_type": "text",
    "id": "sGBEAmKU_-5_"
   },
   "source": [
    "## Load the experiment in validation mode\n",
    "- Set flag eval_infer as True"
   ]
  },
  {
   "cell_type": "code",
   "execution_count": 33,
   "metadata": {
    "colab": {
     "base_uri": "https://localhost:8080/",
     "height": 209
    },
    "colab_type": "code",
    "id": "RTjytrF60mf1",
    "outputId": "3a89ec4a-2306-4c62-bd51-5a7fee7c59ce"
   },
   "outputs": [
    {
     "name": "stdout",
     "output_type": "stream",
     "text": [
      "Pytorch Version: 1.4.0\n",
      "\n",
      "Model Details\n",
      "    Loading model - workspace/sample-project-1/sample-experiment-1/output/models/final\n",
      "    Model loaded!\n",
      "\n",
      "Experiment Details\n",
      "    Project: sample-project-1\n",
      "    Experiment: sample-experiment-1\n",
      "    Dir: /content/workspace/sample-project-1/sample-experiment-1/\n",
      "\n"
     ]
    }
   ],
   "source": [
    "gtf = prototype(verbose=1);\n",
    "gtf.Prototype(\"sample-project-1\", \"sample-experiment-1\", eval_infer=True);"
   ]
  },
  {
   "cell_type": "markdown",
   "metadata": {
    "colab_type": "text",
    "id": "0MHxtsS6BIU4"
   },
   "source": [
    "## Load the validation dataset\n"
   ]
  },
  {
   "cell_type": "code",
   "execution_count": 34,
   "metadata": {
    "colab": {
     "base_uri": "https://localhost:8080/",
     "height": 278
    },
    "colab_type": "code",
    "id": "BXpHqEZt0vJT",
    "outputId": "b5a8f64a-65e3-4b29-ddd6-95f1fc9bd6b9"
   },
   "outputs": [
    {
     "name": "stdout",
     "output_type": "stream",
     "text": [
      "Dataset Details\n",
      "    Test path:     monk_v1/monk/system_check_tests/datasets/dataset_cats_dogs_eval\n",
      "    CSV test path:  None\n",
      "\n",
      "Dataset Params\n",
      "    Input Size:  224\n",
      "    Processors:   2\n",
      "\n",
      "Pre-Composed Test Transforms\n",
      "[{'Normalize': {'mean': [0.485, 0.456, 0.406], 'std': [0.229, 0.224, 0.225]}}]\n",
      "\n",
      "Dataset Numbers\n",
      "    Num test images: 50\n",
      "    Num classes:      2\n",
      "\n"
     ]
    }
   ],
   "source": [
    "gtf.Dataset_Params(dataset_path=\"monk_v1/monk/system_check_tests/datasets/dataset_cats_dogs_eval\");\n",
    "gtf.Dataset();"
   ]
  },
  {
   "cell_type": "markdown",
   "metadata": {
    "colab_type": "text",
    "id": "qusT7hApBkId"
   },
   "source": [
    "## Run validation"
   ]
  },
  {
   "cell_type": "code",
   "execution_count": 35,
   "metadata": {
    "colab": {
     "base_uri": "https://localhost:8080/",
     "height": 383
    },
    "colab_type": "code",
    "id": "R9LY-bwy01Gt",
    "outputId": "10320a6e-e4d5-491b-9162-5db1dd5e2f40"
   },
   "outputs": [
    {
     "name": "stderr",
     "output_type": "stream",
     "text": [
      "\n",
      "\n",
      "  0%|          | 0/50 [00:00<?, ?it/s]\u001b[A\u001b[A"
     ]
    },
    {
     "name": "stdout",
     "output_type": "stream",
     "text": [
      "Testing\n"
     ]
    },
    {
     "name": "stderr",
     "output_type": "stream",
     "text": [
      "\n",
      "\n",
      "  8%|▊         | 4/50 [00:00<00:01, 38.37it/s]\u001b[A\u001b[A\n",
      "\n",
      " 36%|███▌      | 18/50 [00:00<00:00, 48.93it/s]\u001b[A\u001b[A\n",
      "\n",
      " 64%|██████▍   | 32/50 [00:00<00:00, 60.74it/s]\u001b[A\u001b[A\n",
      "\n",
      "100%|██████████| 50/50 [00:00<00:00, 104.42it/s]"
     ]
    },
    {
     "name": "stdout",
     "output_type": "stream",
     "text": [
      "\n",
      "    Result\n",
      "        class based accuracies\n",
      "            0. cat - 96.0 %\n",
      "            1. dog - 92.0 %\n",
      "        total images:            50\n",
      "        num correct predictions: 47\n",
      "        Average accuracy (%):    94.0\n",
      "\n"
     ]
    },
    {
     "name": "stderr",
     "output_type": "stream",
     "text": [
      "\n"
     ]
    }
   ],
   "source": [
    "accuracy, class_based_accuracy = gtf.Evaluate();"
   ]
  },
  {
   "cell_type": "markdown",
   "metadata": {
    "colab_type": "text",
    "id": "YudMyMT5CAoX"
   },
   "source": [
    "# Running inference on test images\n"
   ]
  },
  {
   "cell_type": "markdown",
   "metadata": {
    "colab_type": "text",
    "id": "E_ylkPWiCLt1"
   },
   "source": [
    "## Load the experiment in inference mode\n",
    "- Set flag eval_infer as True\n"
   ]
  },
  {
   "cell_type": "code",
   "execution_count": 36,
   "metadata": {
    "colab": {
     "base_uri": "https://localhost:8080/",
     "height": 209
    },
    "colab_type": "code",
    "id": "lqkwx3ev04a2",
    "outputId": "56e43061-b996-47bc-cb86-2d375fc33cc4"
   },
   "outputs": [
    {
     "name": "stdout",
     "output_type": "stream",
     "text": [
      "Pytorch Version: 1.4.0\n",
      "\n",
      "Model Details\n",
      "    Loading model - workspace/sample-project-1/sample-experiment-1/output/models/final\n",
      "    Model loaded!\n",
      "\n",
      "Experiment Details\n",
      "    Project: sample-project-1\n",
      "    Experiment: sample-experiment-1\n",
      "    Dir: /content/workspace/sample-project-1/sample-experiment-1/\n",
      "\n"
     ]
    }
   ],
   "source": [
    "gtf = prototype(verbose=1);\n",
    "gtf.Prototype(\"sample-project-1\", \"sample-experiment-1\", eval_infer=True);"
   ]
  },
  {
   "cell_type": "markdown",
   "metadata": {
    "colab_type": "text",
    "id": "LUQPvf65CUes"
   },
   "source": [
    "# Select image and Run inference\n",
    "- Test on already sample image by Monk\n",
    "    - Simply run the below cell\n",
    "    \n",
    "- Test on your custom image\n",
    "    - Upload the image to Colab notebook\n",
    "    - Copy its path\n",
    "    - Change ```img_name = \\path\\of\\your\\image.jpg```"
   ]
  },
  {
   "cell_type": "code",
   "execution_count": 40,
   "metadata": {
    "colab": {
     "base_uri": "https://localhost:8080/",
     "height": 407
    },
    "colab_type": "code",
    "id": "X0kgh3XV1A4F",
    "outputId": "eeee4b5e-215b-4a25-cdc3-9f484517f187"
   },
   "outputs": [
    {
     "name": "stdout",
     "output_type": "stream",
     "text": [
      "Prediction\n",
      "    Image name:         monk_v1/monk/system_check_tests/datasets/dataset_cats_dogs_test/4.jpg\n",
      "    Predicted class:      cat\n",
      "    Predicted score:      2.1668167114257812\n",
      "\n"
     ]
    },
    {
     "data": {
      "image/jpeg": "/9j/4AAQSkZJRgABAQAAAQABAAD/2wBDAAoHBwgHBgoICAgLCgoLDhgQDg0NDh0VFhEYIx8lJCIf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\n",
      "text/plain": [
       "<IPython.core.display.Image object>"
      ]
     },
     "execution_count": 40,
     "metadata": {
      "tags": []
     },
     "output_type": "execute_result"
    }
   ],
   "source": [
    "img_name = \"monk_v1/monk/system_check_tests/datasets/dataset_cats_dogs_test/4.jpg\";\n",
    "predictions = gtf.Infer(img_name=img_name);\n",
    "\n",
    "#Display \n",
    "Image(filename=img_name)"
   ]
  },
  {
   "cell_type": "code",
   "execution_count": 0,
   "metadata": {
    "colab": {},
    "colab_type": "code",
    "id": "dz2j6ZJ7GP-_"
   },
   "outputs": [],
   "source": []
  }
 ],
 "metadata": {
  "accelerator": "GPU",
  "colab": {
   "name": "Monk_Classification.ipynb",
   "provenance": []
  },
  "kernelspec": {
   "display_name": "Python 3",
   "language": "python",
   "name": "python3"
  }
 },
 "nbformat": 4,
 "nbformat_minor": 1
}
